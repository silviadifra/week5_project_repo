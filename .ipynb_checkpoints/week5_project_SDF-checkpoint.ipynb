{
 "cells": [
  {
   "cell_type": "markdown",
   "id": "e293d1ee",
   "metadata": {},
   "source": [
    "# Ironhack_week5_project: Anime Recommendation Database 2020"
   ]
  },
  {
   "cell_type": "markdown",
   "id": "ffaa3fdd",
   "metadata": {},
   "source": [
    "Import the necessary libraries:"
   ]
  },
  {
   "cell_type": "code",
   "execution_count": 1,
   "id": "cb16839f",
   "metadata": {},
   "outputs": [],
   "source": [
    "import pandas as pd\n",
    "import seaborn as sns\n",
    "import matplotlib.pyplot as plt\n",
    "import numpy as np\n",
    "import time\n",
    "from datetime import date\n",
    "from datetime import datetime\n",
    "from datetime import timedelta"
   ]
  },
  {
   "cell_type": "markdown",
   "id": "8be1dd06",
   "metadata": {},
   "source": [
    "Visualize the database \"anime.csv\""
   ]
  },
  {
   "cell_type": "code",
   "execution_count": 2,
   "id": "1e487232",
   "metadata": {},
   "outputs": [
    {
     "data": {
      "text/html": [
       "<div>\n",
       "<style scoped>\n",
       "    .dataframe tbody tr th:only-of-type {\n",
       "        vertical-align: middle;\n",
       "    }\n",
       "\n",
       "    .dataframe tbody tr th {\n",
       "        vertical-align: top;\n",
       "    }\n",
       "\n",
       "    .dataframe thead th {\n",
       "        text-align: right;\n",
       "    }\n",
       "</style>\n",
       "<table border=\"1\" class=\"dataframe\">\n",
       "  <thead>\n",
       "    <tr style=\"text-align: right;\">\n",
       "      <th></th>\n",
       "      <th>MAL_ID</th>\n",
       "      <th>Name</th>\n",
       "      <th>Score</th>\n",
       "      <th>Genres</th>\n",
       "      <th>English name</th>\n",
       "      <th>Japanese name</th>\n",
       "      <th>Type</th>\n",
       "      <th>Episodes</th>\n",
       "      <th>Aired</th>\n",
       "      <th>Premiered</th>\n",
       "      <th>...</th>\n",
       "      <th>Score-10</th>\n",
       "      <th>Score-9</th>\n",
       "      <th>Score-8</th>\n",
       "      <th>Score-7</th>\n",
       "      <th>Score-6</th>\n",
       "      <th>Score-5</th>\n",
       "      <th>Score-4</th>\n",
       "      <th>Score-3</th>\n",
       "      <th>Score-2</th>\n",
       "      <th>Score-1</th>\n",
       "    </tr>\n",
       "  </thead>\n",
       "  <tbody>\n",
       "    <tr>\n",
       "      <th>0</th>\n",
       "      <td>1</td>\n",
       "      <td>Cowboy Bebop</td>\n",
       "      <td>8.78</td>\n",
       "      <td>Action, Adventure, Comedy, Drama, Sci-Fi, Space</td>\n",
       "      <td>Cowboy Bebop</td>\n",
       "      <td>カウボーイビバップ</td>\n",
       "      <td>TV</td>\n",
       "      <td>26</td>\n",
       "      <td>Apr 3, 1998 to Apr 24, 1999</td>\n",
       "      <td>Spring 1998</td>\n",
       "      <td>...</td>\n",
       "      <td>229170.0</td>\n",
       "      <td>182126.0</td>\n",
       "      <td>131625.0</td>\n",
       "      <td>62330.0</td>\n",
       "      <td>20688.0</td>\n",
       "      <td>8904.0</td>\n",
       "      <td>3184.0</td>\n",
       "      <td>1357.0</td>\n",
       "      <td>741.0</td>\n",
       "      <td>1580.0</td>\n",
       "    </tr>\n",
       "    <tr>\n",
       "      <th>1</th>\n",
       "      <td>5</td>\n",
       "      <td>Cowboy Bebop: Tengoku no Tobira</td>\n",
       "      <td>8.39</td>\n",
       "      <td>Action, Drama, Mystery, Sci-Fi, Space</td>\n",
       "      <td>Cowboy Bebop:The Movie</td>\n",
       "      <td>カウボーイビバップ 天国の扉</td>\n",
       "      <td>Movie</td>\n",
       "      <td>1</td>\n",
       "      <td>Sep 1, 2001</td>\n",
       "      <td>Unknown</td>\n",
       "      <td>...</td>\n",
       "      <td>30043.0</td>\n",
       "      <td>49201.0</td>\n",
       "      <td>49505.0</td>\n",
       "      <td>22632.0</td>\n",
       "      <td>5805.0</td>\n",
       "      <td>1877.0</td>\n",
       "      <td>577.0</td>\n",
       "      <td>221.0</td>\n",
       "      <td>109.0</td>\n",
       "      <td>379.0</td>\n",
       "    </tr>\n",
       "  </tbody>\n",
       "</table>\n",
       "<p>2 rows × 35 columns</p>\n",
       "</div>"
      ],
      "text/plain": [
       "   MAL_ID                             Name Score  \\\n",
       "0       1                     Cowboy Bebop  8.78   \n",
       "1       5  Cowboy Bebop: Tengoku no Tobira  8.39   \n",
       "\n",
       "                                            Genres            English name  \\\n",
       "0  Action, Adventure, Comedy, Drama, Sci-Fi, Space            Cowboy Bebop   \n",
       "1            Action, Drama, Mystery, Sci-Fi, Space  Cowboy Bebop:The Movie   \n",
       "\n",
       "    Japanese name   Type Episodes                        Aired    Premiered  \\\n",
       "0       カウボーイビバップ     TV       26  Apr 3, 1998 to Apr 24, 1999  Spring 1998   \n",
       "1  カウボーイビバップ 天国の扉  Movie        1                  Sep 1, 2001      Unknown   \n",
       "\n",
       "   ...  Score-10   Score-9   Score-8  Score-7  Score-6 Score-5 Score-4  \\\n",
       "0  ...  229170.0  182126.0  131625.0  62330.0  20688.0  8904.0  3184.0   \n",
       "1  ...   30043.0   49201.0   49505.0  22632.0   5805.0  1877.0   577.0   \n",
       "\n",
       "   Score-3  Score-2  Score-1  \n",
       "0   1357.0    741.0   1580.0  \n",
       "1    221.0    109.0    379.0  \n",
       "\n",
       "[2 rows x 35 columns]"
      ]
     },
     "metadata": {},
     "output_type": "display_data"
    }
   ],
   "source": [
    "data = pd.read_csv('data/anime.csv')\n",
    "display(data.head(2))"
   ]
  },
  {
   "cell_type": "markdown",
   "id": "e04d18f0",
   "metadata": {},
   "source": [
    "I want to drop all the last columns Score- because there columns are already from aggregations that I will not need now. I will also drop the column japanese_name because it´s not informative."
   ]
  },
  {
   "cell_type": "code",
   "execution_count": 3,
   "id": "bac03453",
   "metadata": {},
   "outputs": [
    {
     "data": {
      "text/html": [
       "<div>\n",
       "<style scoped>\n",
       "    .dataframe tbody tr th:only-of-type {\n",
       "        vertical-align: middle;\n",
       "    }\n",
       "\n",
       "    .dataframe tbody tr th {\n",
       "        vertical-align: top;\n",
       "    }\n",
       "\n",
       "    .dataframe thead th {\n",
       "        text-align: right;\n",
       "    }\n",
       "</style>\n",
       "<table border=\"1\" class=\"dataframe\">\n",
       "  <thead>\n",
       "    <tr style=\"text-align: right;\">\n",
       "      <th></th>\n",
       "      <th>MAL_ID</th>\n",
       "      <th>Name</th>\n",
       "      <th>Score</th>\n",
       "      <th>Genres</th>\n",
       "      <th>English name</th>\n",
       "      <th>Type</th>\n",
       "      <th>Episodes</th>\n",
       "      <th>Aired</th>\n",
       "      <th>Premiered</th>\n",
       "      <th>Producers</th>\n",
       "      <th>...</th>\n",
       "      <th>Rating</th>\n",
       "      <th>Ranked</th>\n",
       "      <th>Popularity</th>\n",
       "      <th>Members</th>\n",
       "      <th>Favorites</th>\n",
       "      <th>Watching</th>\n",
       "      <th>Completed</th>\n",
       "      <th>On-Hold</th>\n",
       "      <th>Dropped</th>\n",
       "      <th>Plan to Watch</th>\n",
       "    </tr>\n",
       "  </thead>\n",
       "  <tbody>\n",
       "    <tr>\n",
       "      <th>0</th>\n",
       "      <td>1</td>\n",
       "      <td>Cowboy Bebop</td>\n",
       "      <td>8.78</td>\n",
       "      <td>Action, Adventure, Comedy, Drama, Sci-Fi, Space</td>\n",
       "      <td>Cowboy Bebop</td>\n",
       "      <td>TV</td>\n",
       "      <td>26</td>\n",
       "      <td>Apr 3, 1998 to Apr 24, 1999</td>\n",
       "      <td>Spring 1998</td>\n",
       "      <td>Bandai Visual</td>\n",
       "      <td>...</td>\n",
       "      <td>R - 17+ (violence &amp; profanity)</td>\n",
       "      <td>28.0</td>\n",
       "      <td>39</td>\n",
       "      <td>1251960</td>\n",
       "      <td>61971</td>\n",
       "      <td>105808</td>\n",
       "      <td>718161</td>\n",
       "      <td>71513</td>\n",
       "      <td>26678</td>\n",
       "      <td>329800</td>\n",
       "    </tr>\n",
       "  </tbody>\n",
       "</table>\n",
       "<p>1 rows × 24 columns</p>\n",
       "</div>"
      ],
      "text/plain": [
       "   MAL_ID          Name Score  \\\n",
       "0       1  Cowboy Bebop  8.78   \n",
       "\n",
       "                                            Genres  English name Type  \\\n",
       "0  Action, Adventure, Comedy, Drama, Sci-Fi, Space  Cowboy Bebop   TV   \n",
       "\n",
       "  Episodes                        Aired    Premiered      Producers  ...  \\\n",
       "0       26  Apr 3, 1998 to Apr 24, 1999  Spring 1998  Bandai Visual  ...   \n",
       "\n",
       "                           Rating Ranked Popularity  Members Favorites  \\\n",
       "0  R - 17+ (violence & profanity)   28.0         39  1251960     61971   \n",
       "\n",
       "  Watching  Completed  On-Hold  Dropped  Plan to Watch  \n",
       "0   105808     718161    71513    26678         329800  \n",
       "\n",
       "[1 rows x 24 columns]"
      ]
     },
     "metadata": {},
     "output_type": "display_data"
    },
    {
     "data": {
      "text/plain": [
       "(17562, 24)"
      ]
     },
     "execution_count": 3,
     "metadata": {},
     "output_type": "execute_result"
    }
   ],
   "source": [
    "data1 = data[data.columns.drop(list(data.filter(regex='Score-')))]\n",
    "data1=data1.drop(['Japanese name'], axis=1)\n",
    "\n",
    "display(data1.head(1))\n",
    "data1.shape"
   ]
  },
  {
   "cell_type": "markdown",
   "id": "9337fe6a",
   "metadata": {},
   "source": [
    "I will reset the index:"
   ]
  },
  {
   "cell_type": "code",
   "execution_count": 4,
   "id": "c38b7697",
   "metadata": {},
   "outputs": [
    {
     "data": {
      "text/html": [
       "<div>\n",
       "<style scoped>\n",
       "    .dataframe tbody tr th:only-of-type {\n",
       "        vertical-align: middle;\n",
       "    }\n",
       "\n",
       "    .dataframe tbody tr th {\n",
       "        vertical-align: top;\n",
       "    }\n",
       "\n",
       "    .dataframe thead th {\n",
       "        text-align: right;\n",
       "    }\n",
       "</style>\n",
       "<table border=\"1\" class=\"dataframe\">\n",
       "  <thead>\n",
       "    <tr style=\"text-align: right;\">\n",
       "      <th></th>\n",
       "      <th>MAL_ID</th>\n",
       "      <th>Name</th>\n",
       "      <th>Score</th>\n",
       "      <th>Genres</th>\n",
       "      <th>English name</th>\n",
       "      <th>Type</th>\n",
       "      <th>Episodes</th>\n",
       "      <th>Aired</th>\n",
       "      <th>Premiered</th>\n",
       "      <th>Producers</th>\n",
       "      <th>...</th>\n",
       "      <th>Rating</th>\n",
       "      <th>Ranked</th>\n",
       "      <th>Popularity</th>\n",
       "      <th>Members</th>\n",
       "      <th>Favorites</th>\n",
       "      <th>Watching</th>\n",
       "      <th>Completed</th>\n",
       "      <th>On-Hold</th>\n",
       "      <th>Dropped</th>\n",
       "      <th>Plan to Watch</th>\n",
       "    </tr>\n",
       "  </thead>\n",
       "  <tbody>\n",
       "    <tr>\n",
       "      <th>0</th>\n",
       "      <td>1</td>\n",
       "      <td>Cowboy Bebop</td>\n",
       "      <td>8.78</td>\n",
       "      <td>Action, Adventure, Comedy, Drama, Sci-Fi, Space</td>\n",
       "      <td>Cowboy Bebop</td>\n",
       "      <td>TV</td>\n",
       "      <td>26</td>\n",
       "      <td>Apr 3, 1998 to Apr 24, 1999</td>\n",
       "      <td>Spring 1998</td>\n",
       "      <td>Bandai Visual</td>\n",
       "      <td>...</td>\n",
       "      <td>R - 17+ (violence &amp; profanity)</td>\n",
       "      <td>28.0</td>\n",
       "      <td>39</td>\n",
       "      <td>1251960</td>\n",
       "      <td>61971</td>\n",
       "      <td>105808</td>\n",
       "      <td>718161</td>\n",
       "      <td>71513</td>\n",
       "      <td>26678</td>\n",
       "      <td>329800</td>\n",
       "    </tr>\n",
       "  </tbody>\n",
       "</table>\n",
       "<p>1 rows × 24 columns</p>\n",
       "</div>"
      ],
      "text/plain": [
       "   MAL_ID          Name Score  \\\n",
       "0       1  Cowboy Bebop  8.78   \n",
       "\n",
       "                                            Genres  English name Type  \\\n",
       "0  Action, Adventure, Comedy, Drama, Sci-Fi, Space  Cowboy Bebop   TV   \n",
       "\n",
       "  Episodes                        Aired    Premiered      Producers  ...  \\\n",
       "0       26  Apr 3, 1998 to Apr 24, 1999  Spring 1998  Bandai Visual  ...   \n",
       "\n",
       "                           Rating Ranked Popularity  Members Favorites  \\\n",
       "0  R - 17+ (violence & profanity)   28.0         39  1251960     61971   \n",
       "\n",
       "  Watching  Completed  On-Hold  Dropped  Plan to Watch  \n",
       "0   105808     718161    71513    26678         329800  \n",
       "\n",
       "[1 rows x 24 columns]"
      ]
     },
     "execution_count": 4,
     "metadata": {},
     "output_type": "execute_result"
    }
   ],
   "source": [
    "data1.reset_index(drop=True)\n",
    "data1.head(1)"
   ]
  },
  {
   "cell_type": "markdown",
   "id": "a4d71e7d",
   "metadata": {},
   "source": [
    "I will uniform the column-titles. "
   ]
  },
  {
   "cell_type": "code",
   "execution_count": 5,
   "id": "d68c6f48",
   "metadata": {},
   "outputs": [
    {
     "data": {
      "text/html": [
       "<div>\n",
       "<style scoped>\n",
       "    .dataframe tbody tr th:only-of-type {\n",
       "        vertical-align: middle;\n",
       "    }\n",
       "\n",
       "    .dataframe tbody tr th {\n",
       "        vertical-align: top;\n",
       "    }\n",
       "\n",
       "    .dataframe thead th {\n",
       "        text-align: right;\n",
       "    }\n",
       "</style>\n",
       "<table border=\"1\" class=\"dataframe\">\n",
       "  <thead>\n",
       "    <tr style=\"text-align: right;\">\n",
       "      <th></th>\n",
       "      <th>mal_id</th>\n",
       "      <th>name</th>\n",
       "      <th>score</th>\n",
       "      <th>genres</th>\n",
       "      <th>english_name</th>\n",
       "      <th>type</th>\n",
       "      <th>episodes</th>\n",
       "      <th>aired</th>\n",
       "      <th>premiered</th>\n",
       "      <th>producers</th>\n",
       "      <th>...</th>\n",
       "      <th>rating</th>\n",
       "      <th>ranked</th>\n",
       "      <th>popularity</th>\n",
       "      <th>members</th>\n",
       "      <th>favorites</th>\n",
       "      <th>watching</th>\n",
       "      <th>completed</th>\n",
       "      <th>on-hold</th>\n",
       "      <th>dropped</th>\n",
       "      <th>plan_to_watch</th>\n",
       "    </tr>\n",
       "  </thead>\n",
       "  <tbody>\n",
       "    <tr>\n",
       "      <th>0</th>\n",
       "      <td>1</td>\n",
       "      <td>Cowboy Bebop</td>\n",
       "      <td>8.78</td>\n",
       "      <td>Action, Adventure, Comedy, Drama, Sci-Fi, Space</td>\n",
       "      <td>Cowboy Bebop</td>\n",
       "      <td>TV</td>\n",
       "      <td>26</td>\n",
       "      <td>Apr 3, 1998 to Apr 24, 1999</td>\n",
       "      <td>Spring 1998</td>\n",
       "      <td>Bandai Visual</td>\n",
       "      <td>...</td>\n",
       "      <td>R - 17+ (violence &amp; profanity)</td>\n",
       "      <td>28.0</td>\n",
       "      <td>39</td>\n",
       "      <td>1251960</td>\n",
       "      <td>61971</td>\n",
       "      <td>105808</td>\n",
       "      <td>718161</td>\n",
       "      <td>71513</td>\n",
       "      <td>26678</td>\n",
       "      <td>329800</td>\n",
       "    </tr>\n",
       "    <tr>\n",
       "      <th>1</th>\n",
       "      <td>5</td>\n",
       "      <td>Cowboy Bebop: Tengoku no Tobira</td>\n",
       "      <td>8.39</td>\n",
       "      <td>Action, Drama, Mystery, Sci-Fi, Space</td>\n",
       "      <td>Cowboy Bebop:The Movie</td>\n",
       "      <td>Movie</td>\n",
       "      <td>1</td>\n",
       "      <td>Sep 1, 2001</td>\n",
       "      <td>Unknown</td>\n",
       "      <td>Sunrise, Bandai Visual</td>\n",
       "      <td>...</td>\n",
       "      <td>R - 17+ (violence &amp; profanity)</td>\n",
       "      <td>159.0</td>\n",
       "      <td>518</td>\n",
       "      <td>273145</td>\n",
       "      <td>1174</td>\n",
       "      <td>4143</td>\n",
       "      <td>208333</td>\n",
       "      <td>1935</td>\n",
       "      <td>770</td>\n",
       "      <td>57964</td>\n",
       "    </tr>\n",
       "  </tbody>\n",
       "</table>\n",
       "<p>2 rows × 24 columns</p>\n",
       "</div>"
      ],
      "text/plain": [
       "   mal_id                             name score  \\\n",
       "0       1                     Cowboy Bebop  8.78   \n",
       "1       5  Cowboy Bebop: Tengoku no Tobira  8.39   \n",
       "\n",
       "                                            genres            english_name  \\\n",
       "0  Action, Adventure, Comedy, Drama, Sci-Fi, Space            Cowboy Bebop   \n",
       "1            Action, Drama, Mystery, Sci-Fi, Space  Cowboy Bebop:The Movie   \n",
       "\n",
       "    type episodes                        aired    premiered  \\\n",
       "0     TV       26  Apr 3, 1998 to Apr 24, 1999  Spring 1998   \n",
       "1  Movie        1                  Sep 1, 2001      Unknown   \n",
       "\n",
       "                producers  ...                          rating ranked  \\\n",
       "0           Bandai Visual  ...  R - 17+ (violence & profanity)   28.0   \n",
       "1  Sunrise, Bandai Visual  ...  R - 17+ (violence & profanity)  159.0   \n",
       "\n",
       "  popularity  members favorites watching  completed  on-hold  dropped  \\\n",
       "0         39  1251960     61971   105808     718161    71513    26678   \n",
       "1        518   273145      1174     4143     208333     1935      770   \n",
       "\n",
       "   plan_to_watch  \n",
       "0         329800  \n",
       "1          57964  \n",
       "\n",
       "[2 rows x 24 columns]"
      ]
     },
     "metadata": {},
     "output_type": "display_data"
    }
   ],
   "source": [
    "new_header = []\n",
    "def change_titels(df):\n",
    "    for i in df.columns:\n",
    "        x = i.lower().replace(' ','_')\n",
    "        new_header.append(x)\n",
    "    df.columns = new_header\n",
    "    display(df.head(2))\n",
    "    \n",
    "change_titels(data1)"
   ]
  },
  {
   "cell_type": "code",
   "execution_count": 6,
   "id": "880d7b53",
   "metadata": {},
   "outputs": [
    {
     "name": "stdout",
     "output_type": "stream",
     "text": [
      "<class 'pandas.core.frame.DataFrame'>\n",
      "RangeIndex: 17562 entries, 0 to 17561\n",
      "Data columns (total 24 columns):\n",
      " #   Column         Non-Null Count  Dtype \n",
      "---  ------         --------------  ----- \n",
      " 0   mal_id         17562 non-null  int64 \n",
      " 1   name           17562 non-null  object\n",
      " 2   score          17562 non-null  object\n",
      " 3   genres         17562 non-null  object\n",
      " 4   english_name   17562 non-null  object\n",
      " 5   type           17562 non-null  object\n",
      " 6   episodes       17562 non-null  object\n",
      " 7   aired          17562 non-null  object\n",
      " 8   premiered      17562 non-null  object\n",
      " 9   producers      17562 non-null  object\n",
      " 10  licensors      17562 non-null  object\n",
      " 11  studios        17562 non-null  object\n",
      " 12  source         17562 non-null  object\n",
      " 13  duration       17562 non-null  object\n",
      " 14  rating         17562 non-null  object\n",
      " 15  ranked         17562 non-null  object\n",
      " 16  popularity     17562 non-null  int64 \n",
      " 17  members        17562 non-null  int64 \n",
      " 18  favorites      17562 non-null  int64 \n",
      " 19  watching       17562 non-null  int64 \n",
      " 20  completed      17562 non-null  int64 \n",
      " 21  on-hold        17562 non-null  int64 \n",
      " 22  dropped        17562 non-null  int64 \n",
      " 23  plan_to_watch  17562 non-null  int64 \n",
      "dtypes: int64(9), object(15)\n",
      "memory usage: 3.2+ MB\n"
     ]
    }
   ],
   "source": [
    "data1.info()"
   ]
  },
  {
   "cell_type": "code",
   "execution_count": 7,
   "id": "97b60554",
   "metadata": {},
   "outputs": [],
   "source": [
    "#remember to convert score,episodes,duration,rating,ranked as numerical if needed."
   ]
  },
  {
   "cell_type": "code",
   "execution_count": 8,
   "id": "e4610306",
   "metadata": {},
   "outputs": [
    {
     "data": {
      "text/plain": [
       "'Unknown'"
      ]
     },
     "execution_count": 8,
     "metadata": {},
     "output_type": "execute_result"
    }
   ],
   "source": [
    "data1['episodes'].unique()\n",
    "#data1['episodes'].isna().sum()\n",
    "data1['episodes'][11]"
   ]
  },
  {
   "cell_type": "code",
   "execution_count": 9,
   "id": "cef5163e",
   "metadata": {},
   "outputs": [],
   "source": [
    "#Thake out 'Unknown' before converting in numerical"
   ]
  },
  {
   "cell_type": "code",
   "execution_count": 10,
   "id": "95de32e9",
   "metadata": {},
   "outputs": [
    {
     "data": {
      "text/plain": [
       "array(['26', '1', '52', '145', '24', '74', '220', '178', '12', '22', '69',\n",
       "       '25', '4', '94', '5', '3', '13', '23', '43', '6', '50', '47', '51',\n",
       "       '49', '39', '8', '7', '75', '62', '14', '44', '45', '64', '101',\n",
       "       '27', '161', '2', '153', '70', '78', '42', '11', '167', '150',\n",
       "       '366', '9', '16', '38', '48', '10', '76', '40', '20', '37', '41',\n",
       "       '112', '224', '180', '296', '358', '63', '276', '46', '54', '15',\n",
       "       '21', '35', '124', '86', '102', '36', '67', '291', '110', '29',\n",
       "       '55', '201', '142', '109', '34', '136', '32', '73', '114', '19',\n",
       "       '195', '58', '155', '96', '103', '113', '104', '192', '191', '203',\n",
       "       '56', '500', '80', '172', '65', '117', '28', '61', '30', '148',\n",
       "       '128', '100', '17', '243', '92', '105', '79', '31', '1787', '53',\n",
       "       '33', '130', '18', '97', '193', '115', '170', '66', '330', '108',\n",
       "       '68', '119', '95', '137', '60', '77', '72', '127', '99', '373',\n",
       "       '300', '163', '91', '88', '154', '156', '694', '87', '225', '164',\n",
       "       '215', '59', '182', '305', '365', '1471', '331', '175', '143',\n",
       "       '200', '510', '151', '1428', '84', '726', '140', '83', '3057',\n",
       "       '147', '1006', '425', '85', '260', '526', '1818', '258', '398',\n",
       "       '431', '312', '263', '237', '214', '93', '132', '162', '90', '240',\n",
       "       '283', '773', '199', '1274', '1565', '71', '125', '131', '139',\n",
       "       '475', '1306', '89', '744', '120', '146', '122', '135', '160'],\n",
       "      dtype=object)"
      ]
     },
     "execution_count": 10,
     "metadata": {},
     "output_type": "execute_result"
    }
   ],
   "source": [
    "data1.drop(data1[data1['episodes'] == 'Unknown'].index, inplace = True)\n",
    "data1 = pd.DataFrame(data=data1)\n",
    "data1['episodes'].unique()"
   ]
  },
  {
   "cell_type": "code",
   "execution_count": 11,
   "id": "ed1e8f58",
   "metadata": {},
   "outputs": [
    {
     "data": {
      "text/plain": [
       "mal_id            int64\n",
       "name             object\n",
       "score            object\n",
       "genres           object\n",
       "english_name     object\n",
       "type             object\n",
       "episodes          int64\n",
       "aired            object\n",
       "premiered        object\n",
       "producers        object\n",
       "licensors        object\n",
       "studios          object\n",
       "source           object\n",
       "duration         object\n",
       "rating           object\n",
       "ranked           object\n",
       "popularity        int64\n",
       "members           int64\n",
       "favorites         int64\n",
       "watching          int64\n",
       "completed         int64\n",
       "on-hold           int64\n",
       "dropped           int64\n",
       "plan_to_watch     int64\n",
       "dtype: object"
      ]
     },
     "execution_count": 11,
     "metadata": {},
     "output_type": "execute_result"
    }
   ],
   "source": [
    "data1['episodes'] = pd.to_numeric(data1['episodes'])\n",
    "data1.dtypes"
   ]
  },
  {
   "cell_type": "markdown",
   "id": "6064fc08",
   "metadata": {},
   "source": [
    "Check for NaN values. "
   ]
  },
  {
   "cell_type": "code",
   "execution_count": 12,
   "id": "09b5b0d0",
   "metadata": {},
   "outputs": [
    {
     "data": {
      "text/plain": [
       "mal_id           0\n",
       "name             0\n",
       "score            0\n",
       "genres           0\n",
       "english_name     0\n",
       "type             0\n",
       "episodes         0\n",
       "aired            0\n",
       "premiered        0\n",
       "producers        0\n",
       "licensors        0\n",
       "studios          0\n",
       "source           0\n",
       "duration         0\n",
       "rating           0\n",
       "ranked           0\n",
       "popularity       0\n",
       "members          0\n",
       "favorites        0\n",
       "watching         0\n",
       "completed        0\n",
       "on-hold          0\n",
       "dropped          0\n",
       "plan_to_watch    0\n",
       "dtype: int64"
      ]
     },
     "execution_count": 12,
     "metadata": {},
     "output_type": "execute_result"
    }
   ],
   "source": [
    "data1.isna().sum()"
   ]
  },
  {
   "cell_type": "markdown",
   "id": "06843704",
   "metadata": {},
   "source": [
    "There are no NaN values in data1."
   ]
  },
  {
   "cell_type": "markdown",
   "id": "56db2f18",
   "metadata": {},
   "source": [
    "# CLEAN"
   ]
  },
  {
   "cell_type": "markdown",
   "id": "bf222bfc",
   "metadata": {},
   "source": [
    "First I will plit the column \"generes\" in three columns that includes the first 5 genres listed. "
   ]
  },
  {
   "cell_type": "code",
   "execution_count": 13,
   "id": "411eb3fd",
   "metadata": {},
   "outputs": [
    {
     "data": {
      "text/plain": [
       "Hentai                                                 937\n",
       "Music                                                  781\n",
       "Comedy                                                 651\n",
       "Kids                                                   395\n",
       "Kids, Music                                            230\n",
       "                                                      ... \n",
       "Action, Martial Arts, Shounen, Supernatural              1\n",
       "Adventure, Comedy, Game, Sports                          1\n",
       "Adventure, Comedy, Demons, Historical, Supernatural      1\n",
       "Action, Mecha, Military, Music, Sci-Fi, Space            1\n",
       "Martial Arts, Fantasy                                    1\n",
       "Name: genres, Length: 4949, dtype: int64"
      ]
     },
     "execution_count": 13,
     "metadata": {},
     "output_type": "execute_result"
    }
   ],
   "source": [
    "data1['genres'].value_counts()"
   ]
  },
  {
   "cell_type": "code",
   "execution_count": 14,
   "id": "34db8c4d",
   "metadata": {},
   "outputs": [
    {
     "data": {
      "text/html": [
       "<div>\n",
       "<style scoped>\n",
       "    .dataframe tbody tr th:only-of-type {\n",
       "        vertical-align: middle;\n",
       "    }\n",
       "\n",
       "    .dataframe tbody tr th {\n",
       "        vertical-align: top;\n",
       "    }\n",
       "\n",
       "    .dataframe thead th {\n",
       "        text-align: right;\n",
       "    }\n",
       "</style>\n",
       "<table border=\"1\" class=\"dataframe\">\n",
       "  <thead>\n",
       "    <tr style=\"text-align: right;\">\n",
       "      <th></th>\n",
       "      <th>mal_id</th>\n",
       "      <th>name</th>\n",
       "      <th>score</th>\n",
       "      <th>genres</th>\n",
       "      <th>english_name</th>\n",
       "      <th>type</th>\n",
       "      <th>episodes</th>\n",
       "      <th>aired</th>\n",
       "      <th>premiered</th>\n",
       "      <th>producers</th>\n",
       "      <th>...</th>\n",
       "      <th>rating</th>\n",
       "      <th>ranked</th>\n",
       "      <th>popularity</th>\n",
       "      <th>members</th>\n",
       "      <th>favorites</th>\n",
       "      <th>watching</th>\n",
       "      <th>completed</th>\n",
       "      <th>on-hold</th>\n",
       "      <th>dropped</th>\n",
       "      <th>plan_to_watch</th>\n",
       "    </tr>\n",
       "  </thead>\n",
       "  <tbody>\n",
       "    <tr>\n",
       "      <th>0</th>\n",
       "      <td>1</td>\n",
       "      <td>Cowboy Bebop</td>\n",
       "      <td>8.78</td>\n",
       "      <td>Action, Adventure, Comedy, Drama, Sci-Fi, Space</td>\n",
       "      <td>Cowboy Bebop</td>\n",
       "      <td>TV</td>\n",
       "      <td>26</td>\n",
       "      <td>Apr 3, 1998 to Apr 24, 1999</td>\n",
       "      <td>Spring 1998</td>\n",
       "      <td>Bandai Visual</td>\n",
       "      <td>...</td>\n",
       "      <td>R - 17+ (violence &amp; profanity)</td>\n",
       "      <td>28.0</td>\n",
       "      <td>39</td>\n",
       "      <td>1251960</td>\n",
       "      <td>61971</td>\n",
       "      <td>105808</td>\n",
       "      <td>718161</td>\n",
       "      <td>71513</td>\n",
       "      <td>26678</td>\n",
       "      <td>329800</td>\n",
       "    </tr>\n",
       "    <tr>\n",
       "      <th>1</th>\n",
       "      <td>5</td>\n",
       "      <td>Cowboy Bebop: Tengoku no Tobira</td>\n",
       "      <td>8.39</td>\n",
       "      <td>Action, Drama, Mystery, Sci-Fi, Space</td>\n",
       "      <td>Cowboy Bebop:The Movie</td>\n",
       "      <td>Movie</td>\n",
       "      <td>1</td>\n",
       "      <td>Sep 1, 2001</td>\n",
       "      <td>Unknown</td>\n",
       "      <td>Sunrise, Bandai Visual</td>\n",
       "      <td>...</td>\n",
       "      <td>R - 17+ (violence &amp; profanity)</td>\n",
       "      <td>159.0</td>\n",
       "      <td>518</td>\n",
       "      <td>273145</td>\n",
       "      <td>1174</td>\n",
       "      <td>4143</td>\n",
       "      <td>208333</td>\n",
       "      <td>1935</td>\n",
       "      <td>770</td>\n",
       "      <td>57964</td>\n",
       "    </tr>\n",
       "  </tbody>\n",
       "</table>\n",
       "<p>2 rows × 24 columns</p>\n",
       "</div>"
      ],
      "text/plain": [
       "   mal_id                             name score  \\\n",
       "0       1                     Cowboy Bebop  8.78   \n",
       "1       5  Cowboy Bebop: Tengoku no Tobira  8.39   \n",
       "\n",
       "                                            genres            english_name  \\\n",
       "0  Action, Adventure, Comedy, Drama, Sci-Fi, Space            Cowboy Bebop   \n",
       "1            Action, Drama, Mystery, Sci-Fi, Space  Cowboy Bebop:The Movie   \n",
       "\n",
       "    type  episodes                        aired    premiered  \\\n",
       "0     TV        26  Apr 3, 1998 to Apr 24, 1999  Spring 1998   \n",
       "1  Movie         1                  Sep 1, 2001      Unknown   \n",
       "\n",
       "                producers  ...                          rating ranked  \\\n",
       "0           Bandai Visual  ...  R - 17+ (violence & profanity)   28.0   \n",
       "1  Sunrise, Bandai Visual  ...  R - 17+ (violence & profanity)  159.0   \n",
       "\n",
       "  popularity  members favorites watching  completed  on-hold  dropped  \\\n",
       "0         39  1251960     61971   105808     718161    71513    26678   \n",
       "1        518   273145      1174     4143     208333     1935      770   \n",
       "\n",
       "   plan_to_watch  \n",
       "0         329800  \n",
       "1          57964  \n",
       "\n",
       "[2 rows x 24 columns]"
      ]
     },
     "execution_count": 14,
     "metadata": {},
     "output_type": "execute_result"
    }
   ],
   "source": [
    "data1.head(2)"
   ]
  },
  {
   "cell_type": "code",
   "execution_count": 15,
   "id": "8c134b3b",
   "metadata": {},
   "outputs": [],
   "source": [
    "# new data frame with split value columns\n",
    "new = data1[\"genres\"].str.split(\",\", n = -1, expand = True)\n",
    "# making separate first name column from new data frame\n",
    "data1['genres1']= new[0]\n",
    "# making separate last name column from new data frame\n",
    "data1[\"genres2\"]= new[1]\n",
    "data1[\"genres3\"]= new[3]\n",
    "data1[\"genres4\"]= new[4]\n",
    "data1[\"genres5\"]= new[5]\n",
    "data1=data1.drop(['genres'], axis=1)\n"
   ]
  },
  {
   "cell_type": "markdown",
   "id": "a0d0e85c",
   "metadata": {},
   "source": [
    "Now I will clean \"rating\": I will leave only the abbreviaion R, PG-13, G, Rx"
   ]
  },
  {
   "cell_type": "code",
   "execution_count": 16,
   "id": "fff67f7f",
   "metadata": {},
   "outputs": [
    {
     "data": {
      "text/plain": [
       "PG-13 - Teens 13 or older         6040\n",
       "G - All Ages                      5658\n",
       "PG - Children                     1421\n",
       "Rx - Hentai                       1306\n",
       "R - 17+ (violence & profanity)    1140\n",
       "R+ - Mild Nudity                   991\n",
       "Unknown                            490\n",
       "Name: rating, dtype: int64"
      ]
     },
     "execution_count": 16,
     "metadata": {},
     "output_type": "execute_result"
    }
   ],
   "source": [
    "data1.head(2)\n",
    "list(data1.columns)\n",
    "data1['rating'].unique()\n",
    "data1['rating'].value_counts()"
   ]
  },
  {
   "cell_type": "code",
   "execution_count": 17,
   "id": "741f8650",
   "metadata": {},
   "outputs": [],
   "source": [
    "#drop Unknown"
   ]
  },
  {
   "cell_type": "code",
   "execution_count": 18,
   "id": "66c6c3c0",
   "metadata": {},
   "outputs": [
    {
     "data": {
      "text/plain": [
       "array(['R - 17+ (violence & profanity)', 'PG-13 - Teens 13 or older',\n",
       "       'PG - Children', 'R+ - Mild Nudity', 'G - All Ages', 'Rx - Hentai'],\n",
       "      dtype=object)"
      ]
     },
     "execution_count": 18,
     "metadata": {},
     "output_type": "execute_result"
    }
   ],
   "source": [
    "data1.drop(data1[data1['rating'] == 'Unknown'].index, inplace = True)\n",
    "data1 = pd.DataFrame(data=data1)\n",
    "data1['rating'].unique()"
   ]
  },
  {
   "cell_type": "code",
   "execution_count": 19,
   "id": "28b9c3c3",
   "metadata": {},
   "outputs": [],
   "source": [
    "#'1,2,3,4,5'.split(',')[0]"
   ]
  },
  {
   "cell_type": "code",
   "execution_count": 20,
   "id": "9aa03c1f",
   "metadata": {},
   "outputs": [],
   "source": [
    "#data1.rating.apply(lambda x: x.split(' -'))"
   ]
  },
  {
   "cell_type": "code",
   "execution_count": 21,
   "id": "cb81352c",
   "metadata": {},
   "outputs": [],
   "source": [
    "data1['rating_clean'] = data1['rating'].apply(lambda x: x.split(' -')[0])"
   ]
  },
  {
   "cell_type": "code",
   "execution_count": 22,
   "id": "62c95b1f",
   "metadata": {},
   "outputs": [],
   "source": [
    "data1=data1.drop(['rating'], axis=1)"
   ]
  },
  {
   "cell_type": "code",
   "execution_count": 23,
   "id": "89508d6b",
   "metadata": {},
   "outputs": [
    {
     "data": {
      "text/plain": [
       "(16556, 28)"
      ]
     },
     "execution_count": 23,
     "metadata": {},
     "output_type": "execute_result"
    }
   ],
   "source": [
    "data1.head(2)\n",
    "data1.shape"
   ]
  },
  {
   "cell_type": "code",
   "execution_count": 24,
   "id": "740cb50d",
   "metadata": {},
   "outputs": [
    {
     "data": {
      "text/plain": [
       "Index(['mal_id', 'name', 'score', 'english_name', 'type', 'episodes', 'aired',\n",
       "       'premiered', 'producers', 'licensors', 'studios', 'source', 'duration',\n",
       "       'ranked', 'popularity', 'members', 'favorites', 'watching', 'completed',\n",
       "       'on-hold', 'dropped', 'plan_to_watch', 'genres1', 'genres2', 'genres3',\n",
       "       'genres4', 'genres5', 'rating_clean'],\n",
       "      dtype='object')"
      ]
     },
     "execution_count": 24,
     "metadata": {},
     "output_type": "execute_result"
    }
   ],
   "source": [
    "data1.columns"
   ]
  },
  {
   "cell_type": "markdown",
   "id": "30d06956",
   "metadata": {},
   "source": []
  },
  {
   "cell_type": "markdown",
   "id": "6312099b",
   "metadata": {},
   "source": [
    "Check the othe columns: "
   ]
  },
  {
   "cell_type": "code",
   "execution_count": 25,
   "id": "ad2031bf",
   "metadata": {},
   "outputs": [
    {
     "data": {
      "text/plain": [
       "Unknown                                        12637\n",
       "Funimation                                       868\n",
       "Sentai Filmworks                                 651\n",
       "Media Blasters                                   206\n",
       "Discotek Media                                   194\n",
       "                                               ...  \n",
       "Discotek Media, Bandai Visual USA                  1\n",
       "Nozomi Entertainment, Kadokawa Pictures USA        1\n",
       "Brain's Base, Discotek Media                       1\n",
       "Sentai Filmworks, Crunchyroll                      1\n",
       "iQIYI                                              1\n",
       "Name: licensors, Length: 230, dtype: int64"
      ]
     },
     "execution_count": 25,
     "metadata": {},
     "output_type": "execute_result"
    }
   ],
   "source": [
    "data1['licensors'].value_counts() # too many drop the column"
   ]
  },
  {
   "cell_type": "code",
   "execution_count": 26,
   "id": "28321d1f",
   "metadata": {},
   "outputs": [
    {
     "data": {
      "text/plain": [
       "Index(['mal_id', 'name', 'score', 'english_name', 'type', 'episodes', 'aired',\n",
       "       'premiered', 'producers', 'studios', 'source', 'duration', 'ranked',\n",
       "       'popularity', 'members', 'favorites', 'watching', 'completed',\n",
       "       'on-hold', 'dropped', 'plan_to_watch', 'genres1', 'genres2', 'genres3',\n",
       "       'genres4', 'genres5', 'rating_clean'],\n",
       "      dtype='object')"
      ]
     },
     "execution_count": 26,
     "metadata": {},
     "output_type": "execute_result"
    }
   ],
   "source": [
    "#drop licensors\n",
    "data1=data1.drop(['licensors'], axis=1)\n",
    "data1.columns"
   ]
  },
  {
   "cell_type": "code",
   "execution_count": 27,
   "id": "0bd168f0",
   "metadata": {},
   "outputs": [
    {
     "data": {
      "text/plain": [
       "Unknown                                         43.078038\n",
       "NHK                                              3.660304\n",
       "Pink Pineapple                                   1.093259\n",
       "Sanrio                                           0.936216\n",
       "Bandai Visual                                    0.700652\n",
       "                                                  ...    \n",
       "TV Asahi, Dynamic Planning                       0.006040\n",
       "TAKI Corporation                                 0.006040\n",
       "SamBakZa                                         0.006040\n",
       "Pony Canyon, TBS, Movic, Flex Comix              0.006040\n",
       "flying DOG, Sound Team Don Juan, Twin Engine     0.006040\n",
       "Name: producers, Length: 3686, dtype: float64"
      ]
     },
     "execution_count": 27,
     "metadata": {},
     "output_type": "execute_result"
    }
   ],
   "source": [
    "data1['producers'].value_counts()/data1.shape[0]*100 #drop column"
   ]
  },
  {
   "cell_type": "code",
   "execution_count": 28,
   "id": "4ef70394",
   "metadata": {},
   "outputs": [
    {
     "data": {
      "text/plain": [
       "Index(['mal_id', 'name', 'score', 'english_name', 'type', 'episodes', 'aired',\n",
       "       'premiered', 'studios', 'source', 'duration', 'ranked', 'popularity',\n",
       "       'members', 'favorites', 'watching', 'completed', 'on-hold', 'dropped',\n",
       "       'plan_to_watch', 'genres1', 'genres2', 'genres3', 'genres4', 'genres5',\n",
       "       'rating_clean'],\n",
       "      dtype='object')"
      ]
     },
     "execution_count": 28,
     "metadata": {},
     "output_type": "execute_result"
    }
   ],
   "source": [
    "data1=data1.drop(['producers'], axis=1)\n",
    "data1.columns"
   ]
  },
  {
   "cell_type": "code",
   "execution_count": 29,
   "id": "cedcbadf",
   "metadata": {},
   "outputs": [
    {
     "data": {
      "text/plain": [
       "Original         29.813965\n",
       "Manga            21.992027\n",
       "Unknown          20.294757\n",
       "Visual novel      5.846823\n",
       "Game              4.801885\n",
       "Light novel       4.294516\n",
       "Other             3.309978\n",
       "Novel             2.712008\n",
       "Music             1.878473\n",
       "4-koma manga      1.685190\n",
       "Web manga         1.401305\n",
       "Picture book      0.809374\n",
       "Book              0.652331\n",
       "Card game         0.350326\n",
       "Digital manga     0.084561\n",
       "Radio             0.072481\n",
       "Name: source, dtype: float64"
      ]
     },
     "execution_count": 29,
     "metadata": {},
     "output_type": "execute_result"
    }
   ],
   "source": [
    "data1['source'].value_counts()/data1.shape[0]*100 #keep columns, drop rows that correspond to the Uknown "
   ]
  },
  {
   "cell_type": "code",
   "execution_count": 30,
   "id": "4b028356",
   "metadata": {},
   "outputs": [
    {
     "data": {
      "text/plain": [
       "Unknown                                 39.822421\n",
       "Toei Animation                           4.342836\n",
       "Sunrise                                  2.832810\n",
       "J.C.Staff                                2.065716\n",
       "Madhouse                                 1.944914\n",
       "                                          ...    \n",
       "Production I.G, OLM                      0.006040\n",
       "Barnum Studio, SILVER LINK., Connect     0.006040\n",
       "SILVER LINK., Nexus                      0.006040\n",
       "Lerche, 10Gauge                          0.006040\n",
       "Studio Kafka                             0.006040\n",
       "Name: studios, Length: 1037, dtype: float64"
      ]
     },
     "execution_count": 30,
     "metadata": {},
     "output_type": "execute_result"
    }
   ],
   "source": [
    "data1['studios'].value_counts()/data1.shape[0]*100 #Keep Unknown"
   ]
  },
  {
   "cell_type": "code",
   "execution_count": 31,
   "id": "0a6421ae",
   "metadata": {},
   "outputs": [
    {
     "data": {
      "text/plain": [
       "0        Original\n",
       "1        Original\n",
       "2           Manga\n",
       "3        Original\n",
       "4           Manga\n",
       "           ...   \n",
       "17533       Manga\n",
       "17538       Other\n",
       "17539       Manga\n",
       "17549       Manga\n",
       "17552    Original\n",
       "Name: source, Length: 16556, dtype: object"
      ]
     },
     "execution_count": 31,
     "metadata": {},
     "output_type": "execute_result"
    }
   ],
   "source": [
    "data1.source"
   ]
  },
  {
   "cell_type": "markdown",
   "id": "3a5063df",
   "metadata": {},
   "source": [
    "def clean_U(value):\n",
    "       \n",
    "    if value == 'Unknown':\n",
    "        return np.NAN # We are returning NaNs so that we can replace them with means later\n",
    "    else:\n",
    "        return value\n",
    "\n",
    "data_clean = data1.copy()\n",
    "\n",
    "for col in data_clean.columns:\n",
    "    data_clean[col] = data_clean[col].apply(clean_U)\n",
    "    \n",
    "data_clean.isna().sum()/data_clean.shape[0]*100"
   ]
  },
  {
   "cell_type": "markdown",
   "id": "3825c28e",
   "metadata": {},
   "source": [
    "#Now we drop the NAN rowa\n",
    "\n",
    "data_clean.dropna(inplace=True)\n",
    "\n",
    "data_clean[['source']]"
   ]
  },
  {
   "cell_type": "code",
   "execution_count": 32,
   "id": "0ce4d1d9",
   "metadata": {},
   "outputs": [
    {
     "data": {
      "text/plain": [
       "Original         4936\n",
       "Manga            3641\n",
       "Todrop           3360\n",
       "Visual novel      968\n",
       "Game              795\n",
       "Light novel       711\n",
       "Other             548\n",
       "Novel             449\n",
       "Music             311\n",
       "4-koma manga      279\n",
       "Web manga         232\n",
       "Picture book      134\n",
       "Book              108\n",
       "Card game          58\n",
       "Digital manga      14\n",
       "Radio              12\n",
       "Name: source, dtype: int64"
      ]
     },
     "execution_count": 32,
     "metadata": {},
     "output_type": "execute_result"
    }
   ],
   "source": [
    "#This way is to drop rows having Unknown w/o transforming them in NaN\n",
    "def clean_U(value):\n",
    "       \n",
    "    if value == 'Unknown':\n",
    "        return 'Todrop'  # We are returning a string so that we can replace them with means later\n",
    "    else:\n",
    "        return value\n",
    "\n",
    "data_U_clean = data1.copy()\n",
    "\n",
    "for col in data_U_clean.columns:\n",
    "    data_U_clean[col] = data_U_clean[col].apply(clean_U)\n",
    "data_U_clean.source.value_counts()"
   ]
  },
  {
   "cell_type": "code",
   "execution_count": 33,
   "id": "b872ab94",
   "metadata": {},
   "outputs": [
    {
     "data": {
      "text/plain": [
       "Manga            938\n",
       "Original         527\n",
       "Light novel      298\n",
       "Game             144\n",
       "Visual novel     110\n",
       "Novel             91\n",
       "4-koma manga      84\n",
       "Web manga         60\n",
       "Other             52\n",
       "Card game         22\n",
       "Book              18\n",
       "Music              8\n",
       "Digital manga      5\n",
       "Picture book       3\n",
       "Name: source, dtype: int64"
      ]
     },
     "metadata": {},
     "output_type": "display_data"
    },
    {
     "data": {
      "text/plain": [
       "(2360, 26)"
      ]
     },
     "execution_count": 33,
     "metadata": {},
     "output_type": "execute_result"
    }
   ],
   "source": [
    "#I will now drop all the columns that have had Unknown as value. \n",
    "data_U_clean2 = data_U_clean.copy()\n",
    "for col in data_U_clean.columns:\n",
    "    data_U_clean2 = data_U_clean2[data_U_clean2[col] != 'Todrop']\n",
    "\n",
    "display(data_U_clean2.source.value_counts())\n",
    "data_U_clean2.shape"
   ]
  },
  {
   "cell_type": "code",
   "execution_count": 34,
   "id": "47ec1423",
   "metadata": {},
   "outputs": [
    {
     "data": {
      "text/plain": [
       "mal_id            0.000000\n",
       "name              0.000000\n",
       "score             0.000000\n",
       "english_name      0.000000\n",
       "type              0.000000\n",
       "episodes          0.000000\n",
       "aired             0.000000\n",
       "premiered         0.000000\n",
       "studios           0.000000\n",
       "source            0.000000\n",
       "duration          0.000000\n",
       "ranked            0.000000\n",
       "popularity        0.000000\n",
       "members           0.000000\n",
       "favorites         0.000000\n",
       "watching          0.000000\n",
       "completed         0.000000\n",
       "on-hold           0.000000\n",
       "dropped           0.000000\n",
       "plan_to_watch     0.000000\n",
       "genres1           0.000000\n",
       "genres2           0.416767\n",
       "genres3           5.031409\n",
       "genres4           8.673593\n",
       "genres5          11.645325\n",
       "rating_clean      0.000000\n",
       "dtype: float64"
      ]
     },
     "execution_count": 34,
     "metadata": {},
     "output_type": "execute_result"
    }
   ],
   "source": [
    "#NaN still only in the geners and will drop later when I make them numerical\n",
    "data_U_clean2.isna().sum()/data_U_clean.shape[0]*100"
   ]
  },
  {
   "cell_type": "markdown",
   "id": "09714652",
   "metadata": {},
   "source": [
    "I will check if I still have other Unknown values columns"
   ]
  },
  {
   "cell_type": "code",
   "execution_count": 35,
   "id": "7d092bd1",
   "metadata": {},
   "outputs": [
    {
     "data": {
      "text/plain": [
       "False"
      ]
     },
     "execution_count": 35,
     "metadata": {},
     "output_type": "execute_result"
    }
   ],
   "source": [
    "data_U_clean2.isin(['Unknown'])\n",
    "data_U_clean2[data_U_clean2.isin(['Unknown'])].empty"
   ]
  },
  {
   "cell_type": "markdown",
   "id": "4d26641e",
   "metadata": {},
   "source": [
    "To end I will check the type and change it if necessary."
   ]
  },
  {
   "cell_type": "code",
   "execution_count": 36,
   "id": "c989b953",
   "metadata": {},
   "outputs": [
    {
     "data": {
      "text/plain": [
       "Fall 2016      63\n",
       "Spring 2016    45\n",
       "Spring 2017    44\n",
       "Fall 2015      44\n",
       "Winter 2018    43\n",
       "               ..\n",
       "Winter 1986     1\n",
       "Winter 1963     1\n",
       "Spring 1972     1\n",
       "Fall 1968       1\n",
       "Winter 1977     1\n",
       "Name: premiered, Length: 190, dtype: int64"
      ]
     },
     "execution_count": 36,
     "metadata": {},
     "output_type": "execute_result"
    }
   ],
   "source": [
    "data_U_clean2.premiered.value_counts()"
   ]
  },
  {
   "cell_type": "code",
   "execution_count": 37,
   "id": "5e96c793",
   "metadata": {},
   "outputs": [
    {
     "data": {
      "text/plain": [
       "mal_id            int64\n",
       "name             object\n",
       "score            object\n",
       "english_name     object\n",
       "type             object\n",
       "episodes          int64\n",
       "aired            object\n",
       "premiered        object\n",
       "studios          object\n",
       "source           object\n",
       "duration         object\n",
       "ranked           object\n",
       "popularity        int64\n",
       "members           int64\n",
       "favorites         int64\n",
       "watching          int64\n",
       "completed         int64\n",
       "on-hold           int64\n",
       "dropped           int64\n",
       "plan_to_watch     int64\n",
       "genres1          object\n",
       "genres2          object\n",
       "genres3          object\n",
       "genres4          object\n",
       "genres5          object\n",
       "rating_clean     object\n",
       "dtype: object"
      ]
     },
     "execution_count": 37,
     "metadata": {},
     "output_type": "execute_result"
    }
   ],
   "source": [
    "data_U_clean2.dtypes"
   ]
  },
  {
   "cell_type": "markdown",
   "id": "58994aa0",
   "metadata": {},
   "source": [
    "The column premiered can be made numeric dropping the season."
   ]
  },
  {
   "cell_type": "code",
   "execution_count": 38,
   "id": "5402a6c4",
   "metadata": {},
   "outputs": [
    {
     "data": {
      "text/plain": [
       "0        Spring 1998\n",
       "2        Spring 1998\n",
       "3        Summer 2002\n",
       "4          Fall 2004\n",
       "6        Spring 2005\n",
       "            ...     \n",
       "17066      Fall 2020\n",
       "17126    Winter 2021\n",
       "17165    Winter 2021\n",
       "17173    Winter 2021\n",
       "17469    Winter 2021\n",
       "Name: premiered, Length: 2360, dtype: object"
      ]
     },
     "execution_count": 38,
     "metadata": {},
     "output_type": "execute_result"
    }
   ],
   "source": [
    "data_U_clean2.premiered"
   ]
  },
  {
   "cell_type": "code",
   "execution_count": 39,
   "id": "884705b4",
   "metadata": {},
   "outputs": [],
   "source": [
    "data_U_clean2['premiered'] = data_U_clean2['premiered'].apply(lambda x: x.split(' ')[1])\n"
   ]
  },
  {
   "cell_type": "code",
   "execution_count": 40,
   "id": "71a43e5d",
   "metadata": {},
   "outputs": [
    {
     "data": {
      "text/plain": [
       "Index(['mal_id', 'name', 'score', 'english_name', 'type', 'episodes', 'aired',\n",
       "       'premiered', 'studios', 'source', 'duration', 'ranked', 'popularity',\n",
       "       'members', 'favorites', 'watching', 'completed', 'on-hold', 'dropped',\n",
       "       'plan_to_watch', 'genres1', 'genres2', 'genres3', 'genres4', 'genres5',\n",
       "       'rating_clean'],\n",
       "      dtype='object')"
      ]
     },
     "execution_count": 40,
     "metadata": {},
     "output_type": "execute_result"
    }
   ],
   "source": [
    "data_U_clean2[['premiered']]\n",
    "#rename\n",
    "\n",
    "data_U_clean2.columns"
   ]
  },
  {
   "cell_type": "markdown",
   "id": "d711a4d8",
   "metadata": {},
   "source": [
    "The columns score, ranked, premiered can be made numerical "
   ]
  },
  {
   "cell_type": "code",
   "execution_count": 41,
   "id": "abe636d1",
   "metadata": {},
   "outputs": [
    {
     "data": {
      "text/plain": [
       "mal_id             int64\n",
       "name              object\n",
       "score            float64\n",
       "english_name      object\n",
       "type              object\n",
       "episodes           int64\n",
       "aired             object\n",
       "premiered          int64\n",
       "studios           object\n",
       "source            object\n",
       "duration          object\n",
       "ranked           float64\n",
       "popularity         int64\n",
       "members            int64\n",
       "favorites          int64\n",
       "watching           int64\n",
       "completed          int64\n",
       "on-hold            int64\n",
       "dropped            int64\n",
       "plan_to_watch      int64\n",
       "genres1           object\n",
       "genres2           object\n",
       "genres3           object\n",
       "genres4           object\n",
       "genres5           object\n",
       "rating_clean      object\n",
       "dtype: object"
      ]
     },
     "execution_count": 41,
     "metadata": {},
     "output_type": "execute_result"
    }
   ],
   "source": [
    "data_U_clean2['score'] = pd.to_numeric(data_U_clean2['score'])\n",
    "data_U_clean2['ranked'] = pd.to_numeric(data_U_clean2['ranked'])\n",
    "data_U_clean2['premiered'] = pd.to_numeric(data_U_clean2['premiered'])\n",
    "data_U_clean2.dtypes"
   ]
  },
  {
   "cell_type": "markdown",
   "id": "b9816d86",
   "metadata": {},
   "source": [
    "Ad the end I will drop columns that I will not need for the moment like: english_name. "
   ]
  },
  {
   "cell_type": "code",
   "execution_count": 42,
   "id": "660f39ad",
   "metadata": {},
   "outputs": [],
   "source": [
    "data_U_clean2=data_U_clean2.drop(['english_name'], axis=1)"
   ]
  },
  {
   "cell_type": "code",
   "execution_count": 43,
   "id": "e8bebe12",
   "metadata": {},
   "outputs": [
    {
     "data": {
      "text/html": [
       "<div>\n",
       "<style scoped>\n",
       "    .dataframe tbody tr th:only-of-type {\n",
       "        vertical-align: middle;\n",
       "    }\n",
       "\n",
       "    .dataframe tbody tr th {\n",
       "        vertical-align: top;\n",
       "    }\n",
       "\n",
       "    .dataframe thead th {\n",
       "        text-align: right;\n",
       "    }\n",
       "</style>\n",
       "<table border=\"1\" class=\"dataframe\">\n",
       "  <thead>\n",
       "    <tr style=\"text-align: right;\">\n",
       "      <th></th>\n",
       "      <th>mal_id</th>\n",
       "      <th>name</th>\n",
       "      <th>score</th>\n",
       "      <th>type</th>\n",
       "      <th>episodes</th>\n",
       "      <th>aired</th>\n",
       "      <th>premiered</th>\n",
       "      <th>studios</th>\n",
       "      <th>source</th>\n",
       "      <th>duration</th>\n",
       "      <th>...</th>\n",
       "      <th>completed</th>\n",
       "      <th>on-hold</th>\n",
       "      <th>dropped</th>\n",
       "      <th>plan_to_watch</th>\n",
       "      <th>genres1</th>\n",
       "      <th>genres2</th>\n",
       "      <th>genres3</th>\n",
       "      <th>genres4</th>\n",
       "      <th>genres5</th>\n",
       "      <th>rating_clean</th>\n",
       "    </tr>\n",
       "  </thead>\n",
       "  <tbody>\n",
       "    <tr>\n",
       "      <th>0</th>\n",
       "      <td>1</td>\n",
       "      <td>Cowboy Bebop</td>\n",
       "      <td>8.78</td>\n",
       "      <td>TV</td>\n",
       "      <td>26</td>\n",
       "      <td>Apr 3, 1998 to Apr 24, 1999</td>\n",
       "      <td>1998</td>\n",
       "      <td>Sunrise</td>\n",
       "      <td>Original</td>\n",
       "      <td>24 min. per ep.</td>\n",
       "      <td>...</td>\n",
       "      <td>718161</td>\n",
       "      <td>71513</td>\n",
       "      <td>26678</td>\n",
       "      <td>329800</td>\n",
       "      <td>Action</td>\n",
       "      <td>Adventure</td>\n",
       "      <td>Drama</td>\n",
       "      <td>Sci-Fi</td>\n",
       "      <td>Space</td>\n",
       "      <td>R</td>\n",
       "    </tr>\n",
       "    <tr>\n",
       "      <th>2</th>\n",
       "      <td>6</td>\n",
       "      <td>Trigun</td>\n",
       "      <td>8.24</td>\n",
       "      <td>TV</td>\n",
       "      <td>26</td>\n",
       "      <td>Apr 1, 1998 to Sep 30, 1998</td>\n",
       "      <td>1998</td>\n",
       "      <td>Madhouse</td>\n",
       "      <td>Manga</td>\n",
       "      <td>24 min. per ep.</td>\n",
       "      <td>...</td>\n",
       "      <td>343492</td>\n",
       "      <td>25465</td>\n",
       "      <td>13925</td>\n",
       "      <td>146918</td>\n",
       "      <td>Action</td>\n",
       "      <td>Sci-Fi</td>\n",
       "      <td>Comedy</td>\n",
       "      <td>Drama</td>\n",
       "      <td>Shounen</td>\n",
       "      <td>PG-13</td>\n",
       "    </tr>\n",
       "    <tr>\n",
       "      <th>3</th>\n",
       "      <td>7</td>\n",
       "      <td>Witch Hunter Robin</td>\n",
       "      <td>7.27</td>\n",
       "      <td>TV</td>\n",
       "      <td>26</td>\n",
       "      <td>Jul 2, 2002 to Dec 24, 2002</td>\n",
       "      <td>2002</td>\n",
       "      <td>Sunrise</td>\n",
       "      <td>Original</td>\n",
       "      <td>25 min. per ep.</td>\n",
       "      <td>...</td>\n",
       "      <td>46165</td>\n",
       "      <td>5121</td>\n",
       "      <td>5378</td>\n",
       "      <td>33719</td>\n",
       "      <td>Action</td>\n",
       "      <td>Mystery</td>\n",
       "      <td>Supernatural</td>\n",
       "      <td>Drama</td>\n",
       "      <td>Magic</td>\n",
       "      <td>PG-13</td>\n",
       "    </tr>\n",
       "    <tr>\n",
       "      <th>4</th>\n",
       "      <td>8</td>\n",
       "      <td>Bouken Ou Beet</td>\n",
       "      <td>6.98</td>\n",
       "      <td>TV</td>\n",
       "      <td>52</td>\n",
       "      <td>Sep 30, 2004 to Sep 29, 2005</td>\n",
       "      <td>2004</td>\n",
       "      <td>Toei Animation</td>\n",
       "      <td>Manga</td>\n",
       "      <td>23 min. per ep.</td>\n",
       "      <td>...</td>\n",
       "      <td>7314</td>\n",
       "      <td>766</td>\n",
       "      <td>1108</td>\n",
       "      <td>3394</td>\n",
       "      <td>Adventure</td>\n",
       "      <td>Fantasy</td>\n",
       "      <td>Supernatural</td>\n",
       "      <td>None</td>\n",
       "      <td>None</td>\n",
       "      <td>PG</td>\n",
       "    </tr>\n",
       "    <tr>\n",
       "      <th>6</th>\n",
       "      <td>16</td>\n",
       "      <td>Hachimitsu to Clover</td>\n",
       "      <td>8.06</td>\n",
       "      <td>TV</td>\n",
       "      <td>24</td>\n",
       "      <td>Apr 15, 2005 to Sep 27, 2005</td>\n",
       "      <td>2005</td>\n",
       "      <td>J.C.Staff</td>\n",
       "      <td>Manga</td>\n",
       "      <td>23 min. per ep.</td>\n",
       "      <td>...</td>\n",
       "      <td>81145</td>\n",
       "      <td>11901</td>\n",
       "      <td>11026</td>\n",
       "      <td>98518</td>\n",
       "      <td>Comedy</td>\n",
       "      <td>Drama</td>\n",
       "      <td>Romance</td>\n",
       "      <td>Slice of Life</td>\n",
       "      <td>None</td>\n",
       "      <td>PG-13</td>\n",
       "    </tr>\n",
       "  </tbody>\n",
       "</table>\n",
       "<p>5 rows × 25 columns</p>\n",
       "</div>"
      ],
      "text/plain": [
       "   mal_id                  name  score type  episodes  \\\n",
       "0       1          Cowboy Bebop   8.78   TV        26   \n",
       "2       6                Trigun   8.24   TV        26   \n",
       "3       7    Witch Hunter Robin   7.27   TV        26   \n",
       "4       8        Bouken Ou Beet   6.98   TV        52   \n",
       "6      16  Hachimitsu to Clover   8.06   TV        24   \n",
       "\n",
       "                          aired  premiered         studios    source  \\\n",
       "0   Apr 3, 1998 to Apr 24, 1999       1998         Sunrise  Original   \n",
       "2   Apr 1, 1998 to Sep 30, 1998       1998        Madhouse     Manga   \n",
       "3   Jul 2, 2002 to Dec 24, 2002       2002         Sunrise  Original   \n",
       "4  Sep 30, 2004 to Sep 29, 2005       2004  Toei Animation     Manga   \n",
       "6  Apr 15, 2005 to Sep 27, 2005       2005       J.C.Staff     Manga   \n",
       "\n",
       "          duration  ...  completed  on-hold  dropped  plan_to_watch  \\\n",
       "0  24 min. per ep.  ...     718161    71513    26678         329800   \n",
       "2  24 min. per ep.  ...     343492    25465    13925         146918   \n",
       "3  25 min. per ep.  ...      46165     5121     5378          33719   \n",
       "4  23 min. per ep.  ...       7314      766     1108           3394   \n",
       "6  23 min. per ep.  ...      81145    11901    11026          98518   \n",
       "\n",
       "     genres1     genres2        genres3         genres4   genres5 rating_clean  \n",
       "0     Action   Adventure          Drama          Sci-Fi     Space            R  \n",
       "2     Action      Sci-Fi         Comedy           Drama   Shounen        PG-13  \n",
       "3     Action     Mystery   Supernatural           Drama     Magic        PG-13  \n",
       "4  Adventure     Fantasy   Supernatural            None      None           PG  \n",
       "6     Comedy       Drama        Romance   Slice of Life      None        PG-13  \n",
       "\n",
       "[5 rows x 25 columns]"
      ]
     },
     "execution_count": 43,
     "metadata": {},
     "output_type": "execute_result"
    }
   ],
   "source": [
    "data_U_clean2.head()"
   ]
  },
  {
   "cell_type": "markdown",
   "id": "effa0c62",
   "metadata": {},
   "source": [
    "# 1. Which is the years during which the 10 most favorite animes were aired?"
   ]
  },
  {
   "cell_type": "markdown",
   "id": "d50a398b",
   "metadata": {},
   "source": [
    "I will consider only anime series so type=TV"
   ]
  },
  {
   "cell_type": "code",
   "execution_count": 44,
   "id": "1de1a976",
   "metadata": {},
   "outputs": [
    {
     "name": "stdout",
     "output_type": "stream",
     "text": [
      "['TV']\n"
     ]
    },
    {
     "data": {
      "text/plain": [
       "0        TV\n",
       "2        TV\n",
       "3        TV\n",
       "4        TV\n",
       "6        TV\n",
       "         ..\n",
       "17066    TV\n",
       "17126    TV\n",
       "17165    TV\n",
       "17173    TV\n",
       "17469    TV\n",
       "Name: type, Length: 2360, dtype: object"
      ]
     },
     "execution_count": 44,
     "metadata": {},
     "output_type": "execute_result"
    }
   ],
   "source": [
    "data_U_clean2.type\n",
    "print(data_U_clean2.type.unique())\n",
    "\n",
    "data1_TV = data_U_clean2[data_U_clean2['type']== 'TV']\n",
    "data1_TV.type\n",
    "#We actually do not need to select beacuse apparently all the other not TV type were dropped with the Unknown values."
   ]
  },
  {
   "cell_type": "code",
   "execution_count": 45,
   "id": "bbed1703",
   "metadata": {},
   "outputs": [
    {
     "data": {
      "text/html": [
       "<div>\n",
       "<style scoped>\n",
       "    .dataframe tbody tr th:only-of-type {\n",
       "        vertical-align: middle;\n",
       "    }\n",
       "\n",
       "    .dataframe tbody tr th {\n",
       "        vertical-align: top;\n",
       "    }\n",
       "\n",
       "    .dataframe thead th {\n",
       "        text-align: right;\n",
       "    }\n",
       "</style>\n",
       "<table border=\"1\" class=\"dataframe\">\n",
       "  <thead>\n",
       "    <tr style=\"text-align: right;\">\n",
       "      <th></th>\n",
       "      <th>aired</th>\n",
       "    </tr>\n",
       "  </thead>\n",
       "  <tbody>\n",
       "    <tr>\n",
       "      <th>0</th>\n",
       "      <td>Apr 3, 1998 to Apr 24, 1999</td>\n",
       "    </tr>\n",
       "    <tr>\n",
       "      <th>2</th>\n",
       "      <td>Apr 1, 1998 to Sep 30, 1998</td>\n",
       "    </tr>\n",
       "    <tr>\n",
       "      <th>3</th>\n",
       "      <td>Jul 2, 2002 to Dec 24, 2002</td>\n",
       "    </tr>\n",
       "    <tr>\n",
       "      <th>4</th>\n",
       "      <td>Sep 30, 2004 to Sep 29, 2005</td>\n",
       "    </tr>\n",
       "    <tr>\n",
       "      <th>6</th>\n",
       "      <td>Apr 15, 2005 to Sep 27, 2005</td>\n",
       "    </tr>\n",
       "    <tr>\n",
       "      <th>...</th>\n",
       "      <td>...</td>\n",
       "    </tr>\n",
       "    <tr>\n",
       "      <th>17066</th>\n",
       "      <td>Oct 11, 2020 to Dec 20, 2020</td>\n",
       "    </tr>\n",
       "    <tr>\n",
       "      <th>17126</th>\n",
       "      <td>Jan 10, 2021 to ?</td>\n",
       "    </tr>\n",
       "    <tr>\n",
       "      <th>17165</th>\n",
       "      <td>Jan 10, 2021 to ?</td>\n",
       "    </tr>\n",
       "    <tr>\n",
       "      <th>17173</th>\n",
       "      <td>Jan 10, 2021 to ?</td>\n",
       "    </tr>\n",
       "    <tr>\n",
       "      <th>17469</th>\n",
       "      <td>Jan 12, 2021 to ?</td>\n",
       "    </tr>\n",
       "  </tbody>\n",
       "</table>\n",
       "<p>2360 rows × 1 columns</p>\n",
       "</div>"
      ],
      "text/plain": [
       "                              aired\n",
       "0       Apr 3, 1998 to Apr 24, 1999\n",
       "2       Apr 1, 1998 to Sep 30, 1998\n",
       "3       Jul 2, 2002 to Dec 24, 2002\n",
       "4      Sep 30, 2004 to Sep 29, 2005\n",
       "6      Apr 15, 2005 to Sep 27, 2005\n",
       "...                             ...\n",
       "17066  Oct 11, 2020 to Dec 20, 2020\n",
       "17126             Jan 10, 2021 to ?\n",
       "17165             Jan 10, 2021 to ?\n",
       "17173             Jan 10, 2021 to ?\n",
       "17469             Jan 12, 2021 to ?\n",
       "\n",
       "[2360 rows x 1 columns]"
      ]
     },
     "execution_count": 45,
     "metadata": {},
     "output_type": "execute_result"
    }
   ],
   "source": [
    "data1_TV[['aired']]"
   ]
  },
  {
   "cell_type": "markdown",
   "id": "f8d644d9",
   "metadata": {},
   "source": [
    "in the column aired there is a lot of etherogeneity in the columns value. I will try to organize this column in this way:\n",
    "\n",
    "-clean the aired column\n",
    "-make two columns for \"aired_start\" and \"aired_stop\"\n",
    "-delate the \"aired\" original column\n",
    "-check for NaN value and unusual values. Clean the columns from these values.\n",
    "-make the two new columns as date type and select the years for \"aired_start\" and \"aired_stop\""
   ]
  },
  {
   "cell_type": "code",
   "execution_count": 46,
   "id": "ad0a5f96",
   "metadata": {},
   "outputs": [
    {
     "data": {
      "text/plain": [
       "aired                       \n",
       "Oct 5, 2016 to Dec 21, 2016     9\n",
       "Jan 8, 2016 to Mar 25, 2016     6\n",
       "Oct 8, 2017 to Dec 24, 2017     6\n",
       "Jan 12, 2018 to Mar 30, 2018    6\n",
       "Apr 7, 2017 to Jun 23, 2017     6\n",
       "                               ..\n",
       "Jan 13, 2012 to Mar 30, 2012    1\n",
       "Jan 13, 2012 to Jan 27, 2012    1\n",
       "Jan 13, 2006 to Feb 24, 2006    1\n",
       "Jan 13, 1991 to Dec 28, 1991    1\n",
       "Sep 8, 2006 to Nov 24, 2006     1\n",
       "Length: 1851, dtype: int64"
      ]
     },
     "execution_count": 46,
     "metadata": {},
     "output_type": "execute_result"
    }
   ],
   "source": [
    "data1_TV[['aired']].value_counts()"
   ]
  },
  {
   "cell_type": "markdown",
   "id": "f8e513f0",
   "metadata": {},
   "source": [
    "1-clean the aired column from Unkown values."
   ]
  },
  {
   "cell_type": "code",
   "execution_count": 47,
   "id": "92da1882",
   "metadata": {},
   "outputs": [
    {
     "data": {
      "text/html": [
       "<div>\n",
       "<style scoped>\n",
       "    .dataframe tbody tr th:only-of-type {\n",
       "        vertical-align: middle;\n",
       "    }\n",
       "\n",
       "    .dataframe tbody tr th {\n",
       "        vertical-align: top;\n",
       "    }\n",
       "\n",
       "    .dataframe thead th {\n",
       "        text-align: right;\n",
       "    }\n",
       "</style>\n",
       "<table border=\"1\" class=\"dataframe\">\n",
       "  <thead>\n",
       "    <tr style=\"text-align: right;\">\n",
       "      <th></th>\n",
       "      <th>mal_id</th>\n",
       "      <th>name</th>\n",
       "      <th>score</th>\n",
       "      <th>type</th>\n",
       "      <th>episodes</th>\n",
       "      <th>aired</th>\n",
       "      <th>premiered</th>\n",
       "      <th>studios</th>\n",
       "      <th>source</th>\n",
       "      <th>duration</th>\n",
       "      <th>...</th>\n",
       "      <th>on-hold</th>\n",
       "      <th>dropped</th>\n",
       "      <th>plan_to_watch</th>\n",
       "      <th>genres1</th>\n",
       "      <th>genres2</th>\n",
       "      <th>genres3</th>\n",
       "      <th>genres4</th>\n",
       "      <th>genres5</th>\n",
       "      <th>rating_clean</th>\n",
       "      <th>airedUnknown</th>\n",
       "    </tr>\n",
       "  </thead>\n",
       "  <tbody>\n",
       "    <tr>\n",
       "      <th>0</th>\n",
       "      <td>1</td>\n",
       "      <td>Cowboy Bebop</td>\n",
       "      <td>8.78</td>\n",
       "      <td>TV</td>\n",
       "      <td>26</td>\n",
       "      <td>Apr 3, 1998 to Apr 24, 1999</td>\n",
       "      <td>1998</td>\n",
       "      <td>Sunrise</td>\n",
       "      <td>Original</td>\n",
       "      <td>24 min. per ep.</td>\n",
       "      <td>...</td>\n",
       "      <td>71513</td>\n",
       "      <td>26678</td>\n",
       "      <td>329800</td>\n",
       "      <td>Action</td>\n",
       "      <td>Adventure</td>\n",
       "      <td>Drama</td>\n",
       "      <td>Sci-Fi</td>\n",
       "      <td>Space</td>\n",
       "      <td>R</td>\n",
       "      <td>False</td>\n",
       "    </tr>\n",
       "    <tr>\n",
       "      <th>2</th>\n",
       "      <td>6</td>\n",
       "      <td>Trigun</td>\n",
       "      <td>8.24</td>\n",
       "      <td>TV</td>\n",
       "      <td>26</td>\n",
       "      <td>Apr 1, 1998 to Sep 30, 1998</td>\n",
       "      <td>1998</td>\n",
       "      <td>Madhouse</td>\n",
       "      <td>Manga</td>\n",
       "      <td>24 min. per ep.</td>\n",
       "      <td>...</td>\n",
       "      <td>25465</td>\n",
       "      <td>13925</td>\n",
       "      <td>146918</td>\n",
       "      <td>Action</td>\n",
       "      <td>Sci-Fi</td>\n",
       "      <td>Comedy</td>\n",
       "      <td>Drama</td>\n",
       "      <td>Shounen</td>\n",
       "      <td>PG-13</td>\n",
       "      <td>False</td>\n",
       "    </tr>\n",
       "  </tbody>\n",
       "</table>\n",
       "<p>2 rows × 26 columns</p>\n",
       "</div>"
      ],
      "text/plain": [
       "   mal_id          name  score type  episodes                        aired  \\\n",
       "0       1  Cowboy Bebop   8.78   TV        26  Apr 3, 1998 to Apr 24, 1999   \n",
       "2       6        Trigun   8.24   TV        26  Apr 1, 1998 to Sep 30, 1998   \n",
       "\n",
       "   premiered   studios    source         duration  ...  on-hold  dropped  \\\n",
       "0       1998   Sunrise  Original  24 min. per ep.  ...    71513    26678   \n",
       "2       1998  Madhouse     Manga  24 min. per ep.  ...    25465    13925   \n",
       "\n",
       "   plan_to_watch  genres1     genres2  genres3  genres4   genres5  \\\n",
       "0         329800   Action   Adventure    Drama   Sci-Fi     Space   \n",
       "2         146918   Action      Sci-Fi   Comedy    Drama   Shounen   \n",
       "\n",
       "   rating_clean airedUnknown  \n",
       "0             R        False  \n",
       "2         PG-13        False  \n",
       "\n",
       "[2 rows x 26 columns]"
      ]
     },
     "execution_count": 47,
     "metadata": {},
     "output_type": "execute_result"
    }
   ],
   "source": [
    "data1_TV['airedUnknown']=data1_TV[['aired']]=='Unknown'\n",
    "data1_TV[['airedUnknown']]\n",
    "data1_TV.head(2)"
   ]
  },
  {
   "cell_type": "code",
   "execution_count": 48,
   "id": "667ea60d",
   "metadata": {},
   "outputs": [],
   "source": [
    "data1_TV.drop(data1_TV[data1_TV['airedUnknown'] == True].index, inplace = True)\n",
    "data2 = pd.DataFrame(data=data1_TV)"
   ]
  },
  {
   "cell_type": "code",
   "execution_count": 49,
   "id": "43ae8e00",
   "metadata": {},
   "outputs": [],
   "source": [
    "#pd.set_option('display.max_rows', None)"
   ]
  },
  {
   "cell_type": "code",
   "execution_count": 50,
   "id": "78bdc586",
   "metadata": {},
   "outputs": [
    {
     "data": {
      "text/plain": [
       "aired                       \n",
       "Oct 5, 2016 to Dec 21, 2016     9\n",
       "Jan 8, 2016 to Mar 25, 2016     6\n",
       "Oct 8, 2017 to Dec 24, 2017     6\n",
       "Jan 12, 2018 to Mar 30, 2018    6\n",
       "Apr 7, 2017 to Jun 23, 2017     6\n",
       "                               ..\n",
       "Jan 13, 2012 to Mar 30, 2012    1\n",
       "Jan 13, 2012 to Jan 27, 2012    1\n",
       "Jan 13, 2006 to Feb 24, 2006    1\n",
       "Jan 13, 1991 to Dec 28, 1991    1\n",
       "Sep 8, 2006 to Nov 24, 2006     1\n",
       "Length: 1851, dtype: int64"
      ]
     },
     "execution_count": 50,
     "metadata": {},
     "output_type": "execute_result"
    }
   ],
   "source": [
    "data2[['aired']].value_counts()"
   ]
  },
  {
   "cell_type": "markdown",
   "id": "751c34f8",
   "metadata": {},
   "source": [
    "2-make two columns for \"aired_start\" and \"aired_stop\" from the column \"aired\". "
   ]
  },
  {
   "cell_type": "code",
   "execution_count": 51,
   "id": "ad6b8fcb",
   "metadata": {},
   "outputs": [],
   "source": [
    "# new data frame with split value columns\n",
    "new = data2[\"aired\"].str.split(\"to\", n = 1, expand = True)\n",
    "# making separate first name column from new data frame\n",
    "data2['aired_start']= new[0]\n",
    "# making separate last name column from new data frame\n",
    "data2[\"aired_stop\"]= new[1]"
   ]
  },
  {
   "cell_type": "code",
   "execution_count": 52,
   "id": "afa6c8b4",
   "metadata": {},
   "outputs": [
    {
     "data": {
      "text/html": [
       "<div>\n",
       "<style scoped>\n",
       "    .dataframe tbody tr th:only-of-type {\n",
       "        vertical-align: middle;\n",
       "    }\n",
       "\n",
       "    .dataframe tbody tr th {\n",
       "        vertical-align: top;\n",
       "    }\n",
       "\n",
       "    .dataframe thead th {\n",
       "        text-align: right;\n",
       "    }\n",
       "</style>\n",
       "<table border=\"1\" class=\"dataframe\">\n",
       "  <thead>\n",
       "    <tr style=\"text-align: right;\">\n",
       "      <th></th>\n",
       "      <th>aired</th>\n",
       "      <th>aired_start</th>\n",
       "      <th>aired_stop</th>\n",
       "    </tr>\n",
       "  </thead>\n",
       "  <tbody>\n",
       "    <tr>\n",
       "      <th>0</th>\n",
       "      <td>Apr 3, 1998 to Apr 24, 1999</td>\n",
       "      <td>Apr 3, 1998</td>\n",
       "      <td>Apr 24, 1999</td>\n",
       "    </tr>\n",
       "    <tr>\n",
       "      <th>2</th>\n",
       "      <td>Apr 1, 1998 to Sep 30, 1998</td>\n",
       "      <td>Apr 1, 1998</td>\n",
       "      <td>Sep 30, 1998</td>\n",
       "    </tr>\n",
       "    <tr>\n",
       "      <th>3</th>\n",
       "      <td>Jul 2, 2002 to Dec 24, 2002</td>\n",
       "      <td>Jul 2, 2002</td>\n",
       "      <td>Dec 24, 2002</td>\n",
       "    </tr>\n",
       "    <tr>\n",
       "      <th>4</th>\n",
       "      <td>Sep 30, 2004 to Sep 29, 2005</td>\n",
       "      <td>Sep 30, 2004</td>\n",
       "      <td>Sep 29, 2005</td>\n",
       "    </tr>\n",
       "    <tr>\n",
       "      <th>6</th>\n",
       "      <td>Apr 15, 2005 to Sep 27, 2005</td>\n",
       "      <td>Apr 15, 2005</td>\n",
       "      <td>Sep 27, 2005</td>\n",
       "    </tr>\n",
       "    <tr>\n",
       "      <th>...</th>\n",
       "      <td>...</td>\n",
       "      <td>...</td>\n",
       "      <td>...</td>\n",
       "    </tr>\n",
       "    <tr>\n",
       "      <th>17066</th>\n",
       "      <td>Oct 11, 2020 to Dec 20, 2020</td>\n",
       "      <td>Oct 11, 2020</td>\n",
       "      <td>Dec 20, 2020</td>\n",
       "    </tr>\n",
       "    <tr>\n",
       "      <th>17126</th>\n",
       "      <td>Jan 10, 2021 to ?</td>\n",
       "      <td>Jan 10, 2021</td>\n",
       "      <td>?</td>\n",
       "    </tr>\n",
       "    <tr>\n",
       "      <th>17165</th>\n",
       "      <td>Jan 10, 2021 to ?</td>\n",
       "      <td>Jan 10, 2021</td>\n",
       "      <td>?</td>\n",
       "    </tr>\n",
       "    <tr>\n",
       "      <th>17173</th>\n",
       "      <td>Jan 10, 2021 to ?</td>\n",
       "      <td>Jan 10, 2021</td>\n",
       "      <td>?</td>\n",
       "    </tr>\n",
       "    <tr>\n",
       "      <th>17469</th>\n",
       "      <td>Jan 12, 2021 to ?</td>\n",
       "      <td>Jan 12, 2021</td>\n",
       "      <td>?</td>\n",
       "    </tr>\n",
       "  </tbody>\n",
       "</table>\n",
       "<p>2360 rows × 3 columns</p>\n",
       "</div>"
      ],
      "text/plain": [
       "                              aired    aired_start     aired_stop\n",
       "0       Apr 3, 1998 to Apr 24, 1999   Apr 3, 1998    Apr 24, 1999\n",
       "2       Apr 1, 1998 to Sep 30, 1998   Apr 1, 1998    Sep 30, 1998\n",
       "3       Jul 2, 2002 to Dec 24, 2002   Jul 2, 2002    Dec 24, 2002\n",
       "4      Sep 30, 2004 to Sep 29, 2005  Sep 30, 2004    Sep 29, 2005\n",
       "6      Apr 15, 2005 to Sep 27, 2005  Apr 15, 2005    Sep 27, 2005\n",
       "...                             ...            ...            ...\n",
       "17066  Oct 11, 2020 to Dec 20, 2020  Oct 11, 2020    Dec 20, 2020\n",
       "17126             Jan 10, 2021 to ?  Jan 10, 2021               ?\n",
       "17165             Jan 10, 2021 to ?  Jan 10, 2021               ?\n",
       "17173             Jan 10, 2021 to ?  Jan 10, 2021               ?\n",
       "17469             Jan 12, 2021 to ?  Jan 12, 2021               ?\n",
       "\n",
       "[2360 rows x 3 columns]"
      ]
     },
     "execution_count": 52,
     "metadata": {},
     "output_type": "execute_result"
    }
   ],
   "source": [
    "data2[['aired', 'aired_start',\"aired_stop\"]]"
   ]
  },
  {
   "cell_type": "markdown",
   "id": "9d4f0a66",
   "metadata": {},
   "source": [
    "Drop the column \"aired\""
   ]
  },
  {
   "cell_type": "code",
   "execution_count": 53,
   "id": "22ec6ddf",
   "metadata": {},
   "outputs": [
    {
     "data": {
      "text/html": [
       "<div>\n",
       "<style scoped>\n",
       "    .dataframe tbody tr th:only-of-type {\n",
       "        vertical-align: middle;\n",
       "    }\n",
       "\n",
       "    .dataframe tbody tr th {\n",
       "        vertical-align: top;\n",
       "    }\n",
       "\n",
       "    .dataframe thead th {\n",
       "        text-align: right;\n",
       "    }\n",
       "</style>\n",
       "<table border=\"1\" class=\"dataframe\">\n",
       "  <thead>\n",
       "    <tr style=\"text-align: right;\">\n",
       "      <th></th>\n",
       "      <th>mal_id</th>\n",
       "      <th>name</th>\n",
       "      <th>score</th>\n",
       "      <th>type</th>\n",
       "      <th>episodes</th>\n",
       "      <th>premiered</th>\n",
       "      <th>studios</th>\n",
       "      <th>source</th>\n",
       "      <th>duration</th>\n",
       "      <th>ranked</th>\n",
       "      <th>...</th>\n",
       "      <th>plan_to_watch</th>\n",
       "      <th>genres1</th>\n",
       "      <th>genres2</th>\n",
       "      <th>genres3</th>\n",
       "      <th>genres4</th>\n",
       "      <th>genres5</th>\n",
       "      <th>rating_clean</th>\n",
       "      <th>airedUnknown</th>\n",
       "      <th>aired_start</th>\n",
       "      <th>aired_stop</th>\n",
       "    </tr>\n",
       "  </thead>\n",
       "  <tbody>\n",
       "    <tr>\n",
       "      <th>0</th>\n",
       "      <td>1</td>\n",
       "      <td>Cowboy Bebop</td>\n",
       "      <td>8.78</td>\n",
       "      <td>TV</td>\n",
       "      <td>26</td>\n",
       "      <td>1998</td>\n",
       "      <td>Sunrise</td>\n",
       "      <td>Original</td>\n",
       "      <td>24 min. per ep.</td>\n",
       "      <td>28.0</td>\n",
       "      <td>...</td>\n",
       "      <td>329800</td>\n",
       "      <td>Action</td>\n",
       "      <td>Adventure</td>\n",
       "      <td>Drama</td>\n",
       "      <td>Sci-Fi</td>\n",
       "      <td>Space</td>\n",
       "      <td>R</td>\n",
       "      <td>False</td>\n",
       "      <td>Apr 3, 1998</td>\n",
       "      <td>Apr 24, 1999</td>\n",
       "    </tr>\n",
       "    <tr>\n",
       "      <th>2</th>\n",
       "      <td>6</td>\n",
       "      <td>Trigun</td>\n",
       "      <td>8.24</td>\n",
       "      <td>TV</td>\n",
       "      <td>26</td>\n",
       "      <td>1998</td>\n",
       "      <td>Madhouse</td>\n",
       "      <td>Manga</td>\n",
       "      <td>24 min. per ep.</td>\n",
       "      <td>266.0</td>\n",
       "      <td>...</td>\n",
       "      <td>146918</td>\n",
       "      <td>Action</td>\n",
       "      <td>Sci-Fi</td>\n",
       "      <td>Comedy</td>\n",
       "      <td>Drama</td>\n",
       "      <td>Shounen</td>\n",
       "      <td>PG-13</td>\n",
       "      <td>False</td>\n",
       "      <td>Apr 1, 1998</td>\n",
       "      <td>Sep 30, 1998</td>\n",
       "    </tr>\n",
       "    <tr>\n",
       "      <th>3</th>\n",
       "      <td>7</td>\n",
       "      <td>Witch Hunter Robin</td>\n",
       "      <td>7.27</td>\n",
       "      <td>TV</td>\n",
       "      <td>26</td>\n",
       "      <td>2002</td>\n",
       "      <td>Sunrise</td>\n",
       "      <td>Original</td>\n",
       "      <td>25 min. per ep.</td>\n",
       "      <td>2481.0</td>\n",
       "      <td>...</td>\n",
       "      <td>33719</td>\n",
       "      <td>Action</td>\n",
       "      <td>Mystery</td>\n",
       "      <td>Supernatural</td>\n",
       "      <td>Drama</td>\n",
       "      <td>Magic</td>\n",
       "      <td>PG-13</td>\n",
       "      <td>False</td>\n",
       "      <td>Jul 2, 2002</td>\n",
       "      <td>Dec 24, 2002</td>\n",
       "    </tr>\n",
       "    <tr>\n",
       "      <th>4</th>\n",
       "      <td>8</td>\n",
       "      <td>Bouken Ou Beet</td>\n",
       "      <td>6.98</td>\n",
       "      <td>TV</td>\n",
       "      <td>52</td>\n",
       "      <td>2004</td>\n",
       "      <td>Toei Animation</td>\n",
       "      <td>Manga</td>\n",
       "      <td>23 min. per ep.</td>\n",
       "      <td>3710.0</td>\n",
       "      <td>...</td>\n",
       "      <td>3394</td>\n",
       "      <td>Adventure</td>\n",
       "      <td>Fantasy</td>\n",
       "      <td>Supernatural</td>\n",
       "      <td>None</td>\n",
       "      <td>None</td>\n",
       "      <td>PG</td>\n",
       "      <td>False</td>\n",
       "      <td>Sep 30, 2004</td>\n",
       "      <td>Sep 29, 2005</td>\n",
       "    </tr>\n",
       "    <tr>\n",
       "      <th>6</th>\n",
       "      <td>16</td>\n",
       "      <td>Hachimitsu to Clover</td>\n",
       "      <td>8.06</td>\n",
       "      <td>TV</td>\n",
       "      <td>24</td>\n",
       "      <td>2005</td>\n",
       "      <td>J.C.Staff</td>\n",
       "      <td>Manga</td>\n",
       "      <td>23 min. per ep.</td>\n",
       "      <td>468.0</td>\n",
       "      <td>...</td>\n",
       "      <td>98518</td>\n",
       "      <td>Comedy</td>\n",
       "      <td>Drama</td>\n",
       "      <td>Romance</td>\n",
       "      <td>Slice of Life</td>\n",
       "      <td>None</td>\n",
       "      <td>PG-13</td>\n",
       "      <td>False</td>\n",
       "      <td>Apr 15, 2005</td>\n",
       "      <td>Sep 27, 2005</td>\n",
       "    </tr>\n",
       "  </tbody>\n",
       "</table>\n",
       "<p>5 rows × 27 columns</p>\n",
       "</div>"
      ],
      "text/plain": [
       "   mal_id                  name  score type  episodes  premiered  \\\n",
       "0       1          Cowboy Bebop   8.78   TV        26       1998   \n",
       "2       6                Trigun   8.24   TV        26       1998   \n",
       "3       7    Witch Hunter Robin   7.27   TV        26       2002   \n",
       "4       8        Bouken Ou Beet   6.98   TV        52       2004   \n",
       "6      16  Hachimitsu to Clover   8.06   TV        24       2005   \n",
       "\n",
       "          studios    source         duration  ranked  ...  plan_to_watch  \\\n",
       "0         Sunrise  Original  24 min. per ep.    28.0  ...         329800   \n",
       "2        Madhouse     Manga  24 min. per ep.   266.0  ...         146918   \n",
       "3         Sunrise  Original  25 min. per ep.  2481.0  ...          33719   \n",
       "4  Toei Animation     Manga  23 min. per ep.  3710.0  ...           3394   \n",
       "6       J.C.Staff     Manga  23 min. per ep.   468.0  ...          98518   \n",
       "\n",
       "     genres1     genres2        genres3         genres4   genres5  \\\n",
       "0     Action   Adventure          Drama          Sci-Fi     Space   \n",
       "2     Action      Sci-Fi         Comedy           Drama   Shounen   \n",
       "3     Action     Mystery   Supernatural           Drama     Magic   \n",
       "4  Adventure     Fantasy   Supernatural            None      None   \n",
       "6     Comedy       Drama        Romance   Slice of Life      None   \n",
       "\n",
       "   rating_clean  airedUnknown    aired_start     aired_stop  \n",
       "0             R         False   Apr 3, 1998    Apr 24, 1999  \n",
       "2         PG-13         False   Apr 1, 1998    Sep 30, 1998  \n",
       "3         PG-13         False   Jul 2, 2002    Dec 24, 2002  \n",
       "4            PG         False  Sep 30, 2004    Sep 29, 2005  \n",
       "6         PG-13         False  Apr 15, 2005    Sep 27, 2005  \n",
       "\n",
       "[5 rows x 27 columns]"
      ]
     },
     "execution_count": 53,
     "metadata": {},
     "output_type": "execute_result"
    }
   ],
   "source": [
    "data2=data2.drop(['aired'], axis=1)\n",
    "data2.head()"
   ]
  },
  {
   "cell_type": "markdown",
   "id": "f84aac83",
   "metadata": {},
   "source": [
    "Check for NaN values "
   ]
  },
  {
   "cell_type": "code",
   "execution_count": 54,
   "id": "c4985015",
   "metadata": {},
   "outputs": [
    {
     "data": {
      "text/plain": [
       "0"
      ]
     },
     "execution_count": 54,
     "metadata": {},
     "output_type": "execute_result"
    }
   ],
   "source": [
    "data2['aired_start'].value_counts()\n",
    "data2['aired_start'].isna().sum()"
   ]
  },
  {
   "cell_type": "code",
   "execution_count": 55,
   "id": "dd3e3271",
   "metadata": {},
   "outputs": [
    {
     "data": {
      "text/plain": [
       "3"
      ]
     },
     "execution_count": 55,
     "metadata": {},
     "output_type": "execute_result"
    }
   ],
   "source": [
    "data2['aired_stop'].value_counts()\n",
    "data2['aired_stop'].isna().sum()"
   ]
  },
  {
   "cell_type": "markdown",
   "id": "db98f4c9",
   "metadata": {},
   "source": [
    "\"aired_stop\" has a lot and I will drop the rows with NaN values relative to aired_stop. "
   ]
  },
  {
   "cell_type": "code",
   "execution_count": 56,
   "id": "99eecb56",
   "metadata": {},
   "outputs": [
    {
     "data": {
      "text/plain": [
       "0"
      ]
     },
     "execution_count": 56,
     "metadata": {},
     "output_type": "execute_result"
    }
   ],
   "source": [
    "data4 = data2[data2['aired_stop'].isna() == False]\n",
    "data4['aired_stop'].isna().sum()"
   ]
  },
  {
   "cell_type": "code",
   "execution_count": 57,
   "id": "603bbbf8",
   "metadata": {},
   "outputs": [
    {
     "data": {
      "text/html": [
       "<div>\n",
       "<style scoped>\n",
       "    .dataframe tbody tr th:only-of-type {\n",
       "        vertical-align: middle;\n",
       "    }\n",
       "\n",
       "    .dataframe tbody tr th {\n",
       "        vertical-align: top;\n",
       "    }\n",
       "\n",
       "    .dataframe thead th {\n",
       "        text-align: right;\n",
       "    }\n",
       "</style>\n",
       "<table border=\"1\" class=\"dataframe\">\n",
       "  <thead>\n",
       "    <tr style=\"text-align: right;\">\n",
       "      <th></th>\n",
       "      <th>aired_start</th>\n",
       "      <th>aired_stop</th>\n",
       "    </tr>\n",
       "  </thead>\n",
       "  <tbody>\n",
       "    <tr>\n",
       "      <th>0</th>\n",
       "      <td>Apr 3, 1998</td>\n",
       "      <td>Apr 24, 1999</td>\n",
       "    </tr>\n",
       "    <tr>\n",
       "      <th>2</th>\n",
       "      <td>Apr 1, 1998</td>\n",
       "      <td>Sep 30, 1998</td>\n",
       "    </tr>\n",
       "    <tr>\n",
       "      <th>3</th>\n",
       "      <td>Jul 2, 2002</td>\n",
       "      <td>Dec 24, 2002</td>\n",
       "    </tr>\n",
       "    <tr>\n",
       "      <th>4</th>\n",
       "      <td>Sep 30, 2004</td>\n",
       "      <td>Sep 29, 2005</td>\n",
       "    </tr>\n",
       "    <tr>\n",
       "      <th>6</th>\n",
       "      <td>Apr 15, 2005</td>\n",
       "      <td>Sep 27, 2005</td>\n",
       "    </tr>\n",
       "    <tr>\n",
       "      <th>...</th>\n",
       "      <td>...</td>\n",
       "      <td>...</td>\n",
       "    </tr>\n",
       "    <tr>\n",
       "      <th>17066</th>\n",
       "      <td>Oct 11, 2020</td>\n",
       "      <td>Dec 20, 2020</td>\n",
       "    </tr>\n",
       "    <tr>\n",
       "      <th>17126</th>\n",
       "      <td>Jan 10, 2021</td>\n",
       "      <td>?</td>\n",
       "    </tr>\n",
       "    <tr>\n",
       "      <th>17165</th>\n",
       "      <td>Jan 10, 2021</td>\n",
       "      <td>?</td>\n",
       "    </tr>\n",
       "    <tr>\n",
       "      <th>17173</th>\n",
       "      <td>Jan 10, 2021</td>\n",
       "      <td>?</td>\n",
       "    </tr>\n",
       "    <tr>\n",
       "      <th>17469</th>\n",
       "      <td>Jan 12, 2021</td>\n",
       "      <td>?</td>\n",
       "    </tr>\n",
       "  </tbody>\n",
       "</table>\n",
       "<p>2357 rows × 2 columns</p>\n",
       "</div>"
      ],
      "text/plain": [
       "         aired_start     aired_stop\n",
       "0       Apr 3, 1998    Apr 24, 1999\n",
       "2       Apr 1, 1998    Sep 30, 1998\n",
       "3       Jul 2, 2002    Dec 24, 2002\n",
       "4      Sep 30, 2004    Sep 29, 2005\n",
       "6      Apr 15, 2005    Sep 27, 2005\n",
       "...              ...            ...\n",
       "17066  Oct 11, 2020    Dec 20, 2020\n",
       "17126  Jan 10, 2021               ?\n",
       "17165  Jan 10, 2021               ?\n",
       "17173  Jan 10, 2021               ?\n",
       "17469  Jan 12, 2021               ?\n",
       "\n",
       "[2357 rows x 2 columns]"
      ]
     },
     "execution_count": 57,
     "metadata": {},
     "output_type": "execute_result"
    }
   ],
   "source": [
    "data4[['aired_start',\"aired_stop\"]]"
   ]
  },
  {
   "cell_type": "markdown",
   "id": "8a535d25",
   "metadata": {},
   "source": [
    "I want to remouve the rows that has a \"?\" like 17561. They use the ? probaby because the anime is still aired. So I can either exlude this value dropping the rows with ? or substitute the ? with the date of today. I will do the second one. "
   ]
  },
  {
   "cell_type": "code",
   "execution_count": 58,
   "id": "50287af2",
   "metadata": {},
   "outputs": [
    {
     "data": {
      "text/html": [
       "<div>\n",
       "<style scoped>\n",
       "    .dataframe tbody tr th:only-of-type {\n",
       "        vertical-align: middle;\n",
       "    }\n",
       "\n",
       "    .dataframe tbody tr th {\n",
       "        vertical-align: top;\n",
       "    }\n",
       "\n",
       "    .dataframe thead th {\n",
       "        text-align: right;\n",
       "    }\n",
       "</style>\n",
       "<table border=\"1\" class=\"dataframe\">\n",
       "  <thead>\n",
       "    <tr style=\"text-align: right;\">\n",
       "      <th></th>\n",
       "      <th>aired_start</th>\n",
       "      <th>aired_stop</th>\n",
       "    </tr>\n",
       "  </thead>\n",
       "  <tbody>\n",
       "    <tr>\n",
       "      <th>0</th>\n",
       "      <td>Apr 3, 1998</td>\n",
       "      <td>Apr 24, 1999</td>\n",
       "    </tr>\n",
       "    <tr>\n",
       "      <th>2</th>\n",
       "      <td>Apr 1, 1998</td>\n",
       "      <td>Sep 30, 1998</td>\n",
       "    </tr>\n",
       "    <tr>\n",
       "      <th>3</th>\n",
       "      <td>Jul 2, 2002</td>\n",
       "      <td>Dec 24, 2002</td>\n",
       "    </tr>\n",
       "    <tr>\n",
       "      <th>4</th>\n",
       "      <td>Sep 30, 2004</td>\n",
       "      <td>Sep 29, 2005</td>\n",
       "    </tr>\n",
       "    <tr>\n",
       "      <th>6</th>\n",
       "      <td>Apr 15, 2005</td>\n",
       "      <td>Sep 27, 2005</td>\n",
       "    </tr>\n",
       "    <tr>\n",
       "      <th>...</th>\n",
       "      <td>...</td>\n",
       "      <td>...</td>\n",
       "    </tr>\n",
       "    <tr>\n",
       "      <th>17066</th>\n",
       "      <td>Oct 11, 2020</td>\n",
       "      <td>Dec 20, 2020</td>\n",
       "    </tr>\n",
       "    <tr>\n",
       "      <th>17126</th>\n",
       "      <td>Jan 10, 2021</td>\n",
       "      <td>May 30, 2022</td>\n",
       "    </tr>\n",
       "    <tr>\n",
       "      <th>17165</th>\n",
       "      <td>Jan 10, 2021</td>\n",
       "      <td>May 30, 2022</td>\n",
       "    </tr>\n",
       "    <tr>\n",
       "      <th>17173</th>\n",
       "      <td>Jan 10, 2021</td>\n",
       "      <td>May 30, 2022</td>\n",
       "    </tr>\n",
       "    <tr>\n",
       "      <th>17469</th>\n",
       "      <td>Jan 12, 2021</td>\n",
       "      <td>May 30, 2022</td>\n",
       "    </tr>\n",
       "  </tbody>\n",
       "</table>\n",
       "<p>2357 rows × 2 columns</p>\n",
       "</div>"
      ],
      "text/plain": [
       "         aired_start     aired_stop\n",
       "0       Apr 3, 1998    Apr 24, 1999\n",
       "2       Apr 1, 1998    Sep 30, 1998\n",
       "3       Jul 2, 2002    Dec 24, 2002\n",
       "4      Sep 30, 2004    Sep 29, 2005\n",
       "6      Apr 15, 2005    Sep 27, 2005\n",
       "...              ...            ...\n",
       "17066  Oct 11, 2020    Dec 20, 2020\n",
       "17126  Jan 10, 2021    May 30, 2022\n",
       "17165  Jan 10, 2021    May 30, 2022\n",
       "17173  Jan 10, 2021    May 30, 2022\n",
       "17469  Jan 12, 2021    May 30, 2022\n",
       "\n",
       "[2357 rows x 2 columns]"
      ]
     },
     "execution_count": 58,
     "metadata": {},
     "output_type": "execute_result"
    }
   ],
   "source": [
    "def money(text):\n",
    "    return text.replace(\" ?\", \"May 30, 2022\")\n",
    "\n",
    "data4 = data4.copy()\n",
    "for col in data4.columns:\n",
    "    data4['aired_stop'] = data4['aired_stop'].apply(money)\n",
    "    \n",
    "\n",
    "data4[['aired_start',\"aired_stop\"]]\n"
   ]
  },
  {
   "cell_type": "code",
   "execution_count": 59,
   "id": "f374074e",
   "metadata": {},
   "outputs": [],
   "source": [
    "#In alternative, to drop the ?\n",
    "#first I check exectly the value of the rows to remove\n",
    "#data4.loc[17561,'aired_stop']\n",
    "#then I remove\n",
    "#data4.drop(data4[data4['aired_stop'] == ' ?'].index, inplace = True)\n",
    "\n",
    "#you can also use this way: filter only the rows that have not ? in aired_stop\n",
    "#data4[data4['aired_stop'] != ' ?']\n",
    "\n",
    "#data5 = pd.DataFrame(data=data4)\n",
    "#data5[['aired_start',\"aired_stop\"]]"
   ]
  },
  {
   "cell_type": "raw",
   "id": "a04f6de8",
   "metadata": {},
   "source": [
    "3-Now I will convert in datapyte aired_start and stop"
   ]
  },
  {
   "cell_type": "code",
   "execution_count": 81,
   "id": "3126e32a",
   "metadata": {},
   "outputs": [],
   "source": [
    "data5 = data4"
   ]
  },
  {
   "cell_type": "code",
   "execution_count": 82,
   "id": "e9ca9e4a",
   "metadata": {},
   "outputs": [
    {
     "data": {
      "text/html": [
       "<div>\n",
       "<style scoped>\n",
       "    .dataframe tbody tr th:only-of-type {\n",
       "        vertical-align: middle;\n",
       "    }\n",
       "\n",
       "    .dataframe tbody tr th {\n",
       "        vertical-align: top;\n",
       "    }\n",
       "\n",
       "    .dataframe thead th {\n",
       "        text-align: right;\n",
       "    }\n",
       "</style>\n",
       "<table border=\"1\" class=\"dataframe\">\n",
       "  <thead>\n",
       "    <tr style=\"text-align: right;\">\n",
       "      <th></th>\n",
       "      <th>aired_start</th>\n",
       "    </tr>\n",
       "  </thead>\n",
       "  <tbody>\n",
       "    <tr>\n",
       "      <th>0</th>\n",
       "      <td>1998-04-03</td>\n",
       "    </tr>\n",
       "    <tr>\n",
       "      <th>2</th>\n",
       "      <td>1998-04-01</td>\n",
       "    </tr>\n",
       "    <tr>\n",
       "      <th>3</th>\n",
       "      <td>2002-07-02</td>\n",
       "    </tr>\n",
       "    <tr>\n",
       "      <th>4</th>\n",
       "      <td>2004-09-30</td>\n",
       "    </tr>\n",
       "    <tr>\n",
       "      <th>6</th>\n",
       "      <td>2005-04-15</td>\n",
       "    </tr>\n",
       "    <tr>\n",
       "      <th>...</th>\n",
       "      <td>...</td>\n",
       "    </tr>\n",
       "    <tr>\n",
       "      <th>17066</th>\n",
       "      <td>2020-10-11</td>\n",
       "    </tr>\n",
       "    <tr>\n",
       "      <th>17126</th>\n",
       "      <td>2021-01-10</td>\n",
       "    </tr>\n",
       "    <tr>\n",
       "      <th>17165</th>\n",
       "      <td>2021-01-10</td>\n",
       "    </tr>\n",
       "    <tr>\n",
       "      <th>17173</th>\n",
       "      <td>2021-01-10</td>\n",
       "    </tr>\n",
       "    <tr>\n",
       "      <th>17469</th>\n",
       "      <td>2021-01-12</td>\n",
       "    </tr>\n",
       "  </tbody>\n",
       "</table>\n",
       "<p>2357 rows × 1 columns</p>\n",
       "</div>"
      ],
      "text/plain": [
       "      aired_start\n",
       "0      1998-04-03\n",
       "2      1998-04-01\n",
       "3      2002-07-02\n",
       "4      2004-09-30\n",
       "6      2005-04-15\n",
       "...           ...\n",
       "17066  2020-10-11\n",
       "17126  2021-01-10\n",
       "17165  2021-01-10\n",
       "17173  2021-01-10\n",
       "17469  2021-01-12\n",
       "\n",
       "[2357 rows x 1 columns]"
      ]
     },
     "execution_count": 82,
     "metadata": {},
     "output_type": "execute_result"
    }
   ],
   "source": [
    "#make aired start and stop as datatipe to select only the year\n",
    "data5['aired_start'] = pd.to_datetime(data4['aired_start'], errors='coerce')\n",
    "data5[['aired_start']]"
   ]
  },
  {
   "cell_type": "code",
   "execution_count": 83,
   "id": "4e1d13a2",
   "metadata": {},
   "outputs": [
    {
     "data": {
      "text/html": [
       "<div>\n",
       "<style scoped>\n",
       "    .dataframe tbody tr th:only-of-type {\n",
       "        vertical-align: middle;\n",
       "    }\n",
       "\n",
       "    .dataframe tbody tr th {\n",
       "        vertical-align: top;\n",
       "    }\n",
       "\n",
       "    .dataframe thead th {\n",
       "        text-align: right;\n",
       "    }\n",
       "</style>\n",
       "<table border=\"1\" class=\"dataframe\">\n",
       "  <thead>\n",
       "    <tr style=\"text-align: right;\">\n",
       "      <th></th>\n",
       "      <th>aired_stop</th>\n",
       "    </tr>\n",
       "  </thead>\n",
       "  <tbody>\n",
       "    <tr>\n",
       "      <th>0</th>\n",
       "      <td>1999-04-24</td>\n",
       "    </tr>\n",
       "    <tr>\n",
       "      <th>2</th>\n",
       "      <td>1998-09-30</td>\n",
       "    </tr>\n",
       "    <tr>\n",
       "      <th>3</th>\n",
       "      <td>2002-12-24</td>\n",
       "    </tr>\n",
       "    <tr>\n",
       "      <th>4</th>\n",
       "      <td>2005-09-29</td>\n",
       "    </tr>\n",
       "    <tr>\n",
       "      <th>6</th>\n",
       "      <td>2005-09-27</td>\n",
       "    </tr>\n",
       "    <tr>\n",
       "      <th>...</th>\n",
       "      <td>...</td>\n",
       "    </tr>\n",
       "    <tr>\n",
       "      <th>17066</th>\n",
       "      <td>2020-12-20</td>\n",
       "    </tr>\n",
       "    <tr>\n",
       "      <th>17126</th>\n",
       "      <td>2022-05-30</td>\n",
       "    </tr>\n",
       "    <tr>\n",
       "      <th>17165</th>\n",
       "      <td>2022-05-30</td>\n",
       "    </tr>\n",
       "    <tr>\n",
       "      <th>17173</th>\n",
       "      <td>2022-05-30</td>\n",
       "    </tr>\n",
       "    <tr>\n",
       "      <th>17469</th>\n",
       "      <td>2022-05-30</td>\n",
       "    </tr>\n",
       "  </tbody>\n",
       "</table>\n",
       "<p>2357 rows × 1 columns</p>\n",
       "</div>"
      ],
      "text/plain": [
       "      aired_stop\n",
       "0     1999-04-24\n",
       "2     1998-09-30\n",
       "3     2002-12-24\n",
       "4     2005-09-29\n",
       "6     2005-09-27\n",
       "...          ...\n",
       "17066 2020-12-20\n",
       "17126 2022-05-30\n",
       "17165 2022-05-30\n",
       "17173 2022-05-30\n",
       "17469 2022-05-30\n",
       "\n",
       "[2357 rows x 1 columns]"
      ]
     },
     "execution_count": 83,
     "metadata": {},
     "output_type": "execute_result"
    }
   ],
   "source": [
    "data5['aired_stop'] = pd.to_datetime(data4['aired_stop'], errors='coerce')\n",
    "data5[['aired_stop']]\n",
    "#data5[['aired_stop']].value_counts()"
   ]
  },
  {
   "cell_type": "code",
   "execution_count": 84,
   "id": "98b66cfc",
   "metadata": {},
   "outputs": [
    {
     "data": {
      "text/html": [
       "<div>\n",
       "<style scoped>\n",
       "    .dataframe tbody tr th:only-of-type {\n",
       "        vertical-align: middle;\n",
       "    }\n",
       "\n",
       "    .dataframe tbody tr th {\n",
       "        vertical-align: top;\n",
       "    }\n",
       "\n",
       "    .dataframe thead th {\n",
       "        text-align: right;\n",
       "    }\n",
       "</style>\n",
       "<table border=\"1\" class=\"dataframe\">\n",
       "  <thead>\n",
       "    <tr style=\"text-align: right;\">\n",
       "      <th></th>\n",
       "      <th>aired_start_y</th>\n",
       "    </tr>\n",
       "  </thead>\n",
       "  <tbody>\n",
       "    <tr>\n",
       "      <th>0</th>\n",
       "      <td>1998</td>\n",
       "    </tr>\n",
       "    <tr>\n",
       "      <th>2</th>\n",
       "      <td>1998</td>\n",
       "    </tr>\n",
       "    <tr>\n",
       "      <th>3</th>\n",
       "      <td>2002</td>\n",
       "    </tr>\n",
       "    <tr>\n",
       "      <th>4</th>\n",
       "      <td>2004</td>\n",
       "    </tr>\n",
       "    <tr>\n",
       "      <th>6</th>\n",
       "      <td>2005</td>\n",
       "    </tr>\n",
       "    <tr>\n",
       "      <th>...</th>\n",
       "      <td>...</td>\n",
       "    </tr>\n",
       "    <tr>\n",
       "      <th>17066</th>\n",
       "      <td>2020</td>\n",
       "    </tr>\n",
       "    <tr>\n",
       "      <th>17126</th>\n",
       "      <td>2021</td>\n",
       "    </tr>\n",
       "    <tr>\n",
       "      <th>17165</th>\n",
       "      <td>2021</td>\n",
       "    </tr>\n",
       "    <tr>\n",
       "      <th>17173</th>\n",
       "      <td>2021</td>\n",
       "    </tr>\n",
       "    <tr>\n",
       "      <th>17469</th>\n",
       "      <td>2021</td>\n",
       "    </tr>\n",
       "  </tbody>\n",
       "</table>\n",
       "<p>2357 rows × 1 columns</p>\n",
       "</div>"
      ],
      "text/plain": [
       "       aired_start_y\n",
       "0               1998\n",
       "2               1998\n",
       "3               2002\n",
       "4               2004\n",
       "6               2005\n",
       "...              ...\n",
       "17066           2020\n",
       "17126           2021\n",
       "17165           2021\n",
       "17173           2021\n",
       "17469           2021\n",
       "\n",
       "[2357 rows x 1 columns]"
      ]
     },
     "execution_count": 84,
     "metadata": {},
     "output_type": "execute_result"
    }
   ],
   "source": [
    "#then select in a new colun only the start year and end year\n",
    "data5['aired_start_y']=data5.aired_start.apply(lambda x: x.year)\n",
    "data5[['aired_start_y']]"
   ]
  },
  {
   "cell_type": "code",
   "execution_count": 85,
   "id": "98991b00",
   "metadata": {},
   "outputs": [
    {
     "data": {
      "text/html": [
       "<div>\n",
       "<style scoped>\n",
       "    .dataframe tbody tr th:only-of-type {\n",
       "        vertical-align: middle;\n",
       "    }\n",
       "\n",
       "    .dataframe tbody tr th {\n",
       "        vertical-align: top;\n",
       "    }\n",
       "\n",
       "    .dataframe thead th {\n",
       "        text-align: right;\n",
       "    }\n",
       "</style>\n",
       "<table border=\"1\" class=\"dataframe\">\n",
       "  <thead>\n",
       "    <tr style=\"text-align: right;\">\n",
       "      <th></th>\n",
       "      <th>aired_stop_y</th>\n",
       "    </tr>\n",
       "  </thead>\n",
       "  <tbody>\n",
       "    <tr>\n",
       "      <th>0</th>\n",
       "      <td>1999</td>\n",
       "    </tr>\n",
       "    <tr>\n",
       "      <th>2</th>\n",
       "      <td>1998</td>\n",
       "    </tr>\n",
       "    <tr>\n",
       "      <th>3</th>\n",
       "      <td>2002</td>\n",
       "    </tr>\n",
       "    <tr>\n",
       "      <th>4</th>\n",
       "      <td>2005</td>\n",
       "    </tr>\n",
       "    <tr>\n",
       "      <th>6</th>\n",
       "      <td>2005</td>\n",
       "    </tr>\n",
       "    <tr>\n",
       "      <th>...</th>\n",
       "      <td>...</td>\n",
       "    </tr>\n",
       "    <tr>\n",
       "      <th>17066</th>\n",
       "      <td>2020</td>\n",
       "    </tr>\n",
       "    <tr>\n",
       "      <th>17126</th>\n",
       "      <td>2022</td>\n",
       "    </tr>\n",
       "    <tr>\n",
       "      <th>17165</th>\n",
       "      <td>2022</td>\n",
       "    </tr>\n",
       "    <tr>\n",
       "      <th>17173</th>\n",
       "      <td>2022</td>\n",
       "    </tr>\n",
       "    <tr>\n",
       "      <th>17469</th>\n",
       "      <td>2022</td>\n",
       "    </tr>\n",
       "  </tbody>\n",
       "</table>\n",
       "<p>2357 rows × 1 columns</p>\n",
       "</div>"
      ],
      "text/plain": [
       "       aired_stop_y\n",
       "0              1999\n",
       "2              1998\n",
       "3              2002\n",
       "4              2005\n",
       "6              2005\n",
       "...             ...\n",
       "17066          2020\n",
       "17126          2022\n",
       "17165          2022\n",
       "17173          2022\n",
       "17469          2022\n",
       "\n",
       "[2357 rows x 1 columns]"
      ]
     },
     "execution_count": 85,
     "metadata": {},
     "output_type": "execute_result"
    }
   ],
   "source": [
    "data5['aired_stop_y']=data5.aired_stop.apply(lambda x: x.year)\n",
    "data5[['aired_stop_y']]"
   ]
  },
  {
   "cell_type": "markdown",
   "id": "d629d6b5",
   "metadata": {},
   "source": [
    "Could be usefull to get the airing_time. To know how long the anime was availabe to be watched. "
   ]
  },
  {
   "cell_type": "code",
   "execution_count": 86,
   "id": "be6a543d",
   "metadata": {},
   "outputs": [
    {
     "data": {
      "text/html": [
       "<div>\n",
       "<style scoped>\n",
       "    .dataframe tbody tr th:only-of-type {\n",
       "        vertical-align: middle;\n",
       "    }\n",
       "\n",
       "    .dataframe tbody tr th {\n",
       "        vertical-align: top;\n",
       "    }\n",
       "\n",
       "    .dataframe thead th {\n",
       "        text-align: right;\n",
       "    }\n",
       "</style>\n",
       "<table border=\"1\" class=\"dataframe\">\n",
       "  <thead>\n",
       "    <tr style=\"text-align: right;\">\n",
       "      <th></th>\n",
       "      <th>airing_time_days</th>\n",
       "    </tr>\n",
       "  </thead>\n",
       "  <tbody>\n",
       "    <tr>\n",
       "      <th>0</th>\n",
       "      <td>386 days</td>\n",
       "    </tr>\n",
       "    <tr>\n",
       "      <th>2</th>\n",
       "      <td>182 days</td>\n",
       "    </tr>\n",
       "    <tr>\n",
       "      <th>3</th>\n",
       "      <td>175 days</td>\n",
       "    </tr>\n",
       "    <tr>\n",
       "      <th>4</th>\n",
       "      <td>364 days</td>\n",
       "    </tr>\n",
       "    <tr>\n",
       "      <th>6</th>\n",
       "      <td>165 days</td>\n",
       "    </tr>\n",
       "    <tr>\n",
       "      <th>...</th>\n",
       "      <td>...</td>\n",
       "    </tr>\n",
       "    <tr>\n",
       "      <th>17066</th>\n",
       "      <td>70 days</td>\n",
       "    </tr>\n",
       "    <tr>\n",
       "      <th>17126</th>\n",
       "      <td>505 days</td>\n",
       "    </tr>\n",
       "    <tr>\n",
       "      <th>17165</th>\n",
       "      <td>505 days</td>\n",
       "    </tr>\n",
       "    <tr>\n",
       "      <th>17173</th>\n",
       "      <td>505 days</td>\n",
       "    </tr>\n",
       "    <tr>\n",
       "      <th>17469</th>\n",
       "      <td>503 days</td>\n",
       "    </tr>\n",
       "  </tbody>\n",
       "</table>\n",
       "<p>2357 rows × 1 columns</p>\n",
       "</div>"
      ],
      "text/plain": [
       "      airing_time_days\n",
       "0             386 days\n",
       "2             182 days\n",
       "3             175 days\n",
       "4             364 days\n",
       "6             165 days\n",
       "...                ...\n",
       "17066          70 days\n",
       "17126         505 days\n",
       "17165         505 days\n",
       "17173         505 days\n",
       "17469         503 days\n",
       "\n",
       "[2357 rows x 1 columns]"
      ]
     },
     "execution_count": 86,
     "metadata": {},
     "output_type": "execute_result"
    }
   ],
   "source": [
    "#select the anime that was aired for longer time. \n",
    "data5['airing_time_days']= (data5['aired_stop'])-(data5['aired_start'])\n",
    "data5[['airing_time_days']]"
   ]
  },
  {
   "cell_type": "code",
   "execution_count": 87,
   "id": "8214e610",
   "metadata": {},
   "outputs": [],
   "source": [
    "#I will split airing_time, keep only the number and convert in numerical."
   ]
  },
  {
   "cell_type": "code",
   "execution_count": 88,
   "id": "4f0b648a",
   "metadata": {},
   "outputs": [
    {
     "data": {
      "text/plain": [
       "mal_id                        int64\n",
       "name                         object\n",
       "score                       float64\n",
       "type                         object\n",
       "episodes                      int64\n",
       "premiered                     int64\n",
       "studios                      object\n",
       "source                       object\n",
       "duration                     object\n",
       "ranked                      float64\n",
       "popularity                    int64\n",
       "members                       int64\n",
       "favorites                     int64\n",
       "watching                      int64\n",
       "completed                     int64\n",
       "on-hold                       int64\n",
       "dropped                       int64\n",
       "plan_to_watch                 int64\n",
       "genres1                      object\n",
       "genres2                      object\n",
       "genres3                      object\n",
       "genres4                      object\n",
       "genres5                      object\n",
       "rating_clean                 object\n",
       "airedUnknown                   bool\n",
       "aired_start          datetime64[ns]\n",
       "aired_stop           datetime64[ns]\n",
       "aired_start_y                 int64\n",
       "aired_stop_y                  int64\n",
       "airing_time_days    timedelta64[ns]\n",
       "dtype: object"
      ]
     },
     "execution_count": 88,
     "metadata": {},
     "output_type": "execute_result"
    }
   ],
   "source": [
    "data5.dtypes"
   ]
  },
  {
   "cell_type": "code",
   "execution_count": 116,
   "id": "17933fbe",
   "metadata": {},
   "outputs": [
    {
     "data": {
      "text/plain": [
       "0        <member 'days' of 'datetime.timedelta' objects>\n",
       "2        <member 'days' of 'datetime.timedelta' objects>\n",
       "3        <member 'days' of 'datetime.timedelta' objects>\n",
       "4        <member 'days' of 'datetime.timedelta' objects>\n",
       "6        <member 'days' of 'datetime.timedelta' objects>\n",
       "                              ...                       \n",
       "17066    <member 'days' of 'datetime.timedelta' objects>\n",
       "17126    <member 'days' of 'datetime.timedelta' objects>\n",
       "17165    <member 'days' of 'datetime.timedelta' objects>\n",
       "17173    <member 'days' of 'datetime.timedelta' objects>\n",
       "17469    <member 'days' of 'datetime.timedelta' objects>\n",
       "Name: airing_time_d, Length: 2357, dtype: object"
      ]
     },
     "execution_count": 116,
     "metadata": {},
     "output_type": "execute_result"
    }
   ],
   "source": [
    "data5['airing_time_d']=pd.Timedelta.days\n",
    "data5['airing_time_d']\n",
    "\n",
    "\n",
    "#data5['airing_time_days'].astype(int)\n",
    "#data5['airing_time_days']=data5['airing_time_days'].replace('days', '')\n",
    "#data5['airing_time_days']"
   ]
  },
  {
   "cell_type": "code",
   "execution_count": null,
   "id": "6bfa54a2",
   "metadata": {},
   "outputs": [],
   "source": []
  },
  {
   "cell_type": "code",
   "execution_count": 90,
   "id": "86861312",
   "metadata": {},
   "outputs": [],
   "source": [
    "#data5['airing_time_days'] = pd.to_numeric(data5['airing_time_days'])\n",
    "#data5.dtypes"
   ]
  },
  {
   "cell_type": "code",
   "execution_count": 92,
   "id": "b531b52b",
   "metadata": {},
   "outputs": [
    {
     "data": {
      "text/plain": [
       "Index(['mal_id', 'name', 'score', 'type', 'episodes', 'premiered', 'studios',\n",
       "       'source', 'duration', 'ranked', 'popularity', 'members', 'favorites',\n",
       "       'watching', 'completed', 'on-hold', 'dropped', 'plan_to_watch',\n",
       "       'genres1', 'genres2', 'genres3', 'genres4', 'genres5', 'rating_clean',\n",
       "       'airedUnknown', 'aired_start', 'aired_stop', 'aired_start_y',\n",
       "       'aired_stop_y', 'airing_time_days'],\n",
       "      dtype='object')"
      ]
     },
     "execution_count": 92,
     "metadata": {},
     "output_type": "execute_result"
    }
   ],
   "source": [
    "data5.columns"
   ]
  },
  {
   "cell_type": "code",
   "execution_count": 93,
   "id": "1eca36b0",
   "metadata": {},
   "outputs": [],
   "source": [
    "#data5['airing_t_vs_duration']= (data5['airing_time'])/(data5['episodes'])\n",
    "#data5[['airing_t_vs_duration']]"
   ]
  },
  {
   "cell_type": "code",
   "execution_count": null,
   "id": "c25f3ea7",
   "metadata": {},
   "outputs": [],
   "source": [
    "data5_anime_vs_airing=data5[['mal_id','name','score','popularity','episodes','aired_start','aired_stop','aired_start_y','aired_stop_y','airing_time',]]\n",
    "data5_anime_vs_airing.head()"
   ]
  },
  {
   "cell_type": "code",
   "execution_count": null,
   "id": "030b4d86",
   "metadata": {},
   "outputs": [],
   "source": [
    "data5[['score']].value_counts()"
   ]
  },
  {
   "cell_type": "markdown",
   "id": "c8aae5b7",
   "metadata": {},
   "source": [
    "In score I have many anime for which there is no score so I drop the Unknown rows"
   ]
  },
  {
   "cell_type": "code",
   "execution_count": null,
   "id": "77ae6c66",
   "metadata": {},
   "outputs": [],
   "source": [
    "data5.drop(data5[data5['score'] == 'Unknown'].index, inplace = True)\n",
    "data5 = pd.DataFrame(data=data5)\n",
    "data5[['score']].value_counts()"
   ]
  },
  {
   "cell_type": "code",
   "execution_count": null,
   "id": "f0b1bff5",
   "metadata": {},
   "outputs": [],
   "source": [
    "data_TV =data5[data5['type']== \"TV\"] \n",
    "data_TV"
   ]
  },
  {
   "cell_type": "code",
   "execution_count": null,
   "id": "9e4977bb",
   "metadata": {},
   "outputs": [],
   "source": [
    "data_TV_sel=data_TV\n",
    "data_TV_sel.head()"
   ]
  },
  {
   "cell_type": "markdown",
   "id": "473f8cea",
   "metadata": {},
   "source": [
    "Now I will sort for the years in which I have the most scored favorite and popular anime.  "
   ]
  },
  {
   "cell_type": "code",
   "execution_count": null,
   "id": "ccc636a2",
   "metadata": {
    "scrolled": true
   },
   "outputs": [],
   "source": [
    "#In which years I have the 5 most scored anime\n",
    "Years_scored = data_TV.sort_values(by=['score'], ascending = False)\n",
    "Years_scored_top5 = Years_scored.iloc[[0,1,2,3,4],:]\n",
    "Years_scored_top5\n",
    "Years_scored_top5[['name','aired_start_y','score']]"
   ]
  },
  {
   "cell_type": "code",
   "execution_count": null,
   "id": "cc0f8cad",
   "metadata": {},
   "outputs": [],
   "source": [
    "list(Years_scored_top5['aired_start_y'])\n",
    "print(\"The top5 scored anime are:\", list(Years_scored_top5['name']))\n",
    "print(\"The years in which the most scored anime started to be aired are:\", list(Years_scored_top5['aired_start_y']))\n",
    "\n"
   ]
  },
  {
   "cell_type": "code",
   "execution_count": null,
   "id": "12090c97",
   "metadata": {},
   "outputs": [],
   "source": [
    "#In which years I have the 5 most favorite anime\n",
    "Years_favorites = data_TV.sort_values(by=['favorites'], ascending = False)\n",
    "Years_favorites_top5 = Years_scored.iloc[[0,1,2,3,4],:]\n",
    "Years_favorites_top5\n",
    "Years_favorites_top5[['name','aired_start_y','favorites']]"
   ]
  },
  {
   "cell_type": "code",
   "execution_count": null,
   "id": "2844af25",
   "metadata": {},
   "outputs": [],
   "source": [
    "list(Years_favorites_top5['aired_start_y'])\n",
    "print(\"The top5 scored anime are:\", list(Years_favorites_top5['name']))\n",
    "print(\"The years in which the most scored anime started to be aired are:\", list(Years_favorites_top5['aired_start_y']))\n"
   ]
  },
  {
   "cell_type": "code",
   "execution_count": null,
   "id": "26041062",
   "metadata": {},
   "outputs": [],
   "source": [
    "#In which years I have the 10 most popular anime\n",
    "Years_popularity= data_TV.sort_values(by=['popularity'], ascending = False)\n",
    "Years_popularity_top5 = Years_popularity.iloc[[0,1,2,3,4],:]\n",
    "Years_popularity_top5.head()\n",
    "Years_popularity_top5[['name','aired_start_y','popularity']]"
   ]
  },
  {
   "cell_type": "code",
   "execution_count": null,
   "id": "bb21c8ef",
   "metadata": {},
   "outputs": [],
   "source": [
    "list(Years_popularity_top5['aired_start_y'])\n",
    "print(\"The top5 popular anime are:\", list(Years_popularity_top5['name']))\n",
    "print(\"The years in which the most popular anime started to be aired are:\", list(Years_popularity_top5['aired_start_y']))"
   ]
  },
  {
   "cell_type": "markdown",
   "id": "1502d544",
   "metadata": {},
   "source": [
    "# In the database the animes (TV) are defined by score, popularity and favorites. Score and favorites appeared to be correlated since the Top5 between score and favorites are the same. Popularity and the oter two not. To better visualize the data I will make a PCA plot considering the thee paramether to define how succefull the anime is accoridng to all of them "
   ]
  },
  {
   "cell_type": "code",
   "execution_count": null,
   "id": "938b1e19",
   "metadata": {},
   "outputs": [],
   "source": [
    "import sklearn\n",
    "from sklearn.decomposition import PCA\n",
    "from sklearn.preprocessing import StandardScaler\n",
    "from sklearn.preprocessing import MinMaxScaler\n",
    "\n",
    "data5.type\n",
    "data5 = data5.reset_index(drop=True)\n",
    "data5"
   ]
  },
  {
   "cell_type": "code",
   "execution_count": null,
   "id": "f592ca4e",
   "metadata": {},
   "outputs": [],
   "source": [
    "data_PCA= data5[['score','popularity','favorites']]\n",
    "data_PCA"
   ]
  },
  {
   "cell_type": "code",
   "execution_count": null,
   "id": "1d202880",
   "metadata": {},
   "outputs": [],
   "source": [
    "scaler = MinMaxScaler()\n",
    "scaler.fit(data_PCA)\n",
    "data_PCA_scaled = pd.DataFrame(scaler.transform(data_PCA), columns=data_PCA.columns)"
   ]
  },
  {
   "cell_type": "code",
   "execution_count": null,
   "id": "fe740373",
   "metadata": {},
   "outputs": [],
   "source": []
  },
  {
   "cell_type": "code",
   "execution_count": null,
   "id": "77910cb4",
   "metadata": {
    "scrolled": true
   },
   "outputs": [],
   "source": [
    "pca = PCA(n_components=3)\n",
    "X_r = pca.fit(data_PCA_scaled).transform(data_PCA_scaled)\n",
    "\n",
    "# Percentage of variance explained for each components\n",
    "print(\n",
    "    \"explained variance ratio (first three components): %s\"\n",
    "    % str(pca.explained_variance_ratio_))\n"
   ]
  },
  {
   "cell_type": "code",
   "execution_count": null,
   "id": "21c538c6",
   "metadata": {},
   "outputs": [],
   "source": [
    "X_r[:,0]"
   ]
  },
  {
   "cell_type": "code",
   "execution_count": null,
   "id": "2c1bf843",
   "metadata": {},
   "outputs": [],
   "source": [
    "data_PCA_scaled['rating_tot'] = X_r[:,0]\n",
    "data_PCA_scaled[['rating_tot']]"
   ]
  },
  {
   "cell_type": "code",
   "execution_count": null,
   "id": "16bd078b",
   "metadata": {},
   "outputs": [],
   "source": [
    "data5_rating_tot = pd.concat([data5, data_PCA_scaled], axis=1)\n",
    "data5_rating_tot.head()"
   ]
  },
  {
   "cell_type": "code",
   "execution_count": null,
   "id": "678fe491",
   "metadata": {},
   "outputs": [],
   "source": [
    "data_PCA_scaled_plot=pd.DataFrame(X_r,columns=['PCA0', 'PCA1', 'PCA2'])\n",
    "data_PCA_scaled_plot.head()"
   ]
  },
  {
   "cell_type": "code",
   "execution_count": null,
   "id": "1d73a688",
   "metadata": {},
   "outputs": [],
   "source": [
    "def plot3D(x, y, z, color, fraction=1):\n",
    "    \"\"\"\n",
    "    This function plots the x,y,z values in 3D\n",
    "    color => color array for each value\n",
    "    fraction => fraction of the data for visualization\n",
    "    \"\"\"\n",
    "    data = pd.DataFrame({0: x, 1: y, 2: z, 3: color})\n",
    "    data = data.sample(frac=fraction)\n",
    "\n",
    "    x = data[0]\n",
    "    y = data[1]\n",
    "    z = data[2]\n",
    "    color = data[3]\n",
    "\n",
    "    sns.set_style(\"whitegrid\", {'axes.grid': False})\n",
    "\n",
    "    fig = plt.figure(figsize=(6, 6))\n",
    "\n",
    "    ax = fig.add_subplot(111, projection='3d')  # Method 2\n",
    "\n",
    "    ax.scatter(x, y, z, c=color, marker='o')\n",
    "    ax.set_xlabel('X Label')\n",
    "    ax.set_ylabel('Y Label')\n",
    "    ax.set_zlabel('Z Label')\n",
    "\n",
    "    plt.show()"
   ]
  },
  {
   "cell_type": "code",
   "execution_count": null,
   "id": "4e7525d9",
   "metadata": {},
   "outputs": [],
   "source": [
    "%matplotlib notebook\n",
    "plot3D(data_PCA_scaled_plot['PCA0'],\n",
    "       data_PCA_scaled_plot['PCA1'],\n",
    "       data_PCA_scaled_plot['PCA2'],\n",
    "       data_PCA_scaled_plot['PCA0'],\n",
    "      1)"
   ]
  },
  {
   "cell_type": "code",
   "execution_count": null,
   "id": "8e273caf",
   "metadata": {},
   "outputs": [],
   "source": [
    "\n",
    "# Plot initialisation\n",
    "import matplotlib.pyplot as plt\n",
    "#data4['name']=pd.Categorical(data4['name'])\n",
    "# to select data_PCA_scaled_plot_sel=data_PCA_scaled_plot.sample(1000)\n",
    "\n",
    "my_color=data_PCA_scaled_plot['PCA0']\n",
    "fig = plt.figure(figsize=(30,10))\n",
    "\n",
    "\n",
    "\n",
    "ax = fig.add_subplot(111, projection='3d')\n",
    "ax.scatter(data_PCA_scaled_plot['PCA0'], data_PCA_scaled_plot['PCA1'], data_PCA_scaled_plot['PCA2'], c=my_color, s=60)\n",
    "\n",
    "# make simple, bare axis lines through space:\n",
    "xAxisLine = ((min(data_PCA_scaled_plot['PCA0']), max(data_PCA_scaled_plot['PCA0'])), (0, 0), (0,0))\n",
    "ax.plot(xAxisLine[0], xAxisLine[1], xAxisLine[2], 'r')\n",
    "yAxisLine = ((0, 0), (min(data_PCA_scaled_plot['PCA1']), max(data_PCA_scaled_plot['PCA1'])), (0,0))\n",
    "ax.plot(yAxisLine[0], yAxisLine[1], yAxisLine[2], 'r')\n",
    "zAxisLine = ((0, 0), (0,0), (min(data_PCA_scaled_plot['PCA2']), max(data_PCA_scaled_plot['PCA2'])))\n",
    "ax.plot(zAxisLine[0], zAxisLine[1], zAxisLine[2], 'r')\n",
    " \n",
    "# label the axes\n",
    "ax.set_xlabel(\"PC0\")\n",
    "ax.set_ylabel(\"PC1\")\n",
    "ax.set_zlabel(\"PC2\")\n",
    "ax.set_title(\"PCA on Anime dataset\")\n",
    "plt.show()"
   ]
  },
  {
   "cell_type": "markdown",
   "id": "ddd22b5e",
   "metadata": {},
   "source": [
    "CONCLUSIONS: I will use "
   ]
  },
  {
   "cell_type": "markdown",
   "id": "e3f4337e",
   "metadata": {},
   "source": [
    "\n",
    "\n",
    "# now I want to know if the first 5 most scored anime are among the high medium or short aring time and the lenght (episodes). So I do a binn.\n"
   ]
  },
  {
   "cell_type": "code",
   "execution_count": null,
   "id": "0a0148d9",
   "metadata": {},
   "outputs": [],
   "source": [
    "#I will use thi slice\n",
    "data.head()\n",
    "data_binn = data_PCA[['mal_id', 'name', 'score_tot', 'episodes', 'aired_start_y','aired_stop_y','airing_time',]]\n",
    "data_binn.head()\n"
   ]
  },
  {
   "cell_type": "code",
   "execution_count": null,
   "id": "b9233554",
   "metadata": {},
   "outputs": [],
   "source": [
    "#I will do BINNING for airing time\n",
    "airing_time_labels = ['short', 'medium', 'long', 'very_long']\n",
    "#I will use Qcat to have class imbalance\n",
    "\n",
    "\n",
    "data5_anime_vs_airing['airing_time_category'] = pd.qcut(data5_anime_vs_airing['airing_time'],4,labels=airing_time_labels)\n",
    "data5_anime_vs_airing['airing_time_category'].value_counts()\n"
   ]
  },
  {
   "cell_type": "code",
   "execution_count": null,
   "id": "b4dc22d9",
   "metadata": {},
   "outputs": [],
   "source": [
    "Anime_vs_airing_cat= data5_anime_vs_airing.sort_values(by=['score'], ascending = False)\n",
    "Anime_vs_airing_cat_top5 = Anime_vs_airing_cat.iloc[[0,1,2,3,4],:]\n",
    "Anime_vs_airing_cat_top5\n",
    "Anime_vs_airing_cat_top5[['name','aired_start_y','score','airing_time_category']]"
   ]
  },
  {
   "cell_type": "code",
   "execution_count": null,
   "id": "5f308895",
   "metadata": {},
   "outputs": [],
   "source": [
    "AnimePop_vs_airing_cat= data5_anime_vs_airing.sort_values(by=['popularity'], ascending = False)\n",
    "AnimePop_vs_airing_cat_top5 = AnimePop_vs_airing_cat.iloc[[0,1,2,3,4],:]\n",
    "AnimePop_vs_airing_cat_top5\n",
    "AnimePop_vs_airing_cat_top5[['name','aired_start_y','popularity','airing_time_category']]"
   ]
  },
  {
   "cell_type": "code",
   "execution_count": null,
   "id": "e3c6397c",
   "metadata": {},
   "outputs": [],
   "source": [
    "#concert score and episodes in numerical \n",
    "data5_anime_vs_airing['score'] = pd.to_numeric(data5_anime_vs_airing['score'])\n",
    "print(data5_anime_vs_airing.dtypes)"
   ]
  },
  {
   "cell_type": "code",
   "execution_count": null,
   "id": "d85ec492",
   "metadata": {},
   "outputs": [],
   "source": [
    "\n"
   ]
  },
  {
   "cell_type": "code",
   "execution_count": null,
   "id": "d3dae23b",
   "metadata": {},
   "outputs": [],
   "source": [
    "sns.displot(data5_anime_vs_airing['score'], bins=20)\n",
    "sns.displot(data5_anime_vs_airing['airing_time_category'], bins=20)\n",
    "\n"
   ]
  },
  {
   "cell_type": "code",
   "execution_count": null,
   "id": "66c2fb01",
   "metadata": {},
   "outputs": [],
   "source": []
  },
  {
   "cell_type": "code",
   "execution_count": null,
   "id": "c983221d",
   "metadata": {},
   "outputs": [],
   "source": [
    "data5_anime_vs_airing_very_long = data5_anime_vs_airing[data5_anime_vs_airing['airing_time_category']=='very_long']\n",
    "data5_anime_vs_airing_very_long "
   ]
  },
  {
   "cell_type": "code",
   "execution_count": null,
   "id": "9556ed2a",
   "metadata": {},
   "outputs": [],
   "source": [
    "fig, ax = plt.subplots(2,2,figsize=(15,10))\n",
    "sns.histplot(x='score', hue='airing_time_category', data=data5_anime_vs_airing, ax=ax[0,0])\n",
    "sns.histplot(x='popularity', hue='airing_time_category', data=data5_anime_vs_airing, ax=ax[0,1])\n",
    "sns.histplot(x='score', hue='airing_time_category', data=data5_anime_vs_airing_very_long, ax=ax[1,0])\n",
    "sns.histplot(x='popularity', hue='airing_time_category', data=data5_anime_vs_airing_very_long, ax=ax[1,1])\n",
    "plt.show()\n",
    "# It appears that the most popular and scored are the very long, also the short ones are the lass popular. bit Not the less scored. "
   ]
  },
  {
   "cell_type": "code",
   "execution_count": null,
   "id": "924e5ee6",
   "metadata": {},
   "outputs": [],
   "source": [
    "# it´s independed by the lenght "
   ]
  },
  {
   "cell_type": "code",
   "execution_count": null,
   "id": "6d0b22bf",
   "metadata": {},
   "outputs": [],
   "source": [
    "sns.histplot(x='score', hue='episodes', data=data5_anime_vs_airing, ax=ax[0,0])\n",
    "\n",
    "#sns.histplot(x='popularity', hue='episodes', data=data5_anime_vs_airing, ax=ax[0,1])"
   ]
  },
  {
   "cell_type": "code",
   "execution_count": null,
   "id": "6bf6bfba",
   "metadata": {},
   "outputs": [],
   "source": [
    "data5.head()"
   ]
  },
  {
   "cell_type": "code",
   "execution_count": null,
   "id": "236600bc",
   "metadata": {},
   "outputs": [],
   "source": [
    "data5['score'] = pd.to_numeric(data5['score'])\n",
    "print(data5.dtypes)"
   ]
  },
  {
   "cell_type": "code",
   "execution_count": null,
   "id": "35ae5dfb",
   "metadata": {},
   "outputs": [],
   "source": [
    "data5[['type']].value_counts()"
   ]
  },
  {
   "cell_type": "raw",
   "id": "da8ddba3",
   "metadata": {},
   "source": [
    "START analysis on MOVIES only "
   ]
  },
  {
   "cell_type": "code",
   "execution_count": null,
   "id": "58fa7cfe",
   "metadata": {},
   "outputs": [],
   "source": [
    "data_movies =data5[data5['type']== \"Movie\"] "
   ]
  },
  {
   "cell_type": "code",
   "execution_count": null,
   "id": "74d67009",
   "metadata": {},
   "outputs": [],
   "source": [
    "data_movies.head()"
   ]
  },
  {
   "cell_type": "code",
   "execution_count": null,
   "id": "6335ec92",
   "metadata": {},
   "outputs": [],
   "source": [
    "data_movies_drop=data_movies.drop(columns=['airedUnknown', 'source', 'licensors','premiered','english_name', 'on-hold'], axis=1)\n",
    "display(data_movies_drop.head())\n",
    "data_movies_drop.shape"
   ]
  },
  {
   "cell_type": "code",
   "execution_count": null,
   "id": "2edbdb1e",
   "metadata": {},
   "outputs": [],
   "source": [
    "data_movies_drop.columns"
   ]
  },
  {
   "cell_type": "code",
   "execution_count": null,
   "id": "f5dc840a",
   "metadata": {},
   "outputs": [],
   "source": [
    "data_movies_drop['studios'].value_counts()"
   ]
  },
  {
   "cell_type": "code",
   "execution_count": null,
   "id": "071b5478",
   "metadata": {},
   "outputs": [],
   "source": [
    "data_movies_drop['producers'].value_counts()"
   ]
  },
  {
   "cell_type": "code",
   "execution_count": null,
   "id": "9c9546e3",
   "metadata": {},
   "outputs": [],
   "source": [
    "#since so many Unknown in droducers I drop it\n",
    "data_movies_drop=data_movies_drop.drop(columns=['producers'], axis=1)\n",
    "display(data_movies_drop.head())\n",
    "data_movies_drop.shape"
   ]
  },
  {
   "cell_type": "code",
   "execution_count": null,
   "id": "6ac50342",
   "metadata": {},
   "outputs": [],
   "source": [
    "Top_scored_movies= data_movies_drop.sort_values(by=['score'], ascending = False)\n",
    "Top_scored_movies[['name']]\n",
    "Top_scored_movies = Top_scored_movies.iloc[[0,1,2,3,4],:]\n",
    "Top_scored_movies\n",
    "Top_scored_movies[['name','score','completed','dropped','favorites']]"
   ]
  },
  {
   "cell_type": "code",
   "execution_count": null,
   "id": "d96efbd3",
   "metadata": {},
   "outputs": [],
   "source": [
    "sns.barplot(x=\"score\", y=\"completed\", data=Top_scored_movies)\n",
    "plt.show()\n",
    "sns.barplot(x=\"score\", y=\"dropped\", data=Top_scored_movies)\n",
    "plt.show()\n",
    "#scored anime top5 according to the number of users that finished it "
   ]
  },
  {
   "cell_type": "code",
   "execution_count": null,
   "id": "7eadc558",
   "metadata": {},
   "outputs": [],
   "source": [
    "Top_scored_movies= data_movies_drop.sort_values(by=['popularity'], ascending = False)\n",
    "Top_scored_movies[['popularity']]\n",
    "Top_scored_movies = Top_scored_movies.iloc[[0,1,2,3,4],:]\n",
    "Top_scored_movies\n",
    "Top_scored_movies[['name','score', 'completed']]"
   ]
  },
  {
   "cell_type": "code",
   "execution_count": null,
   "id": "593c17a6",
   "metadata": {},
   "outputs": [],
   "source": [
    "sns.relplot(data=data_movies_drop, x=\"score\", y=\"popularity\")"
   ]
  },
  {
   "cell_type": "code",
   "execution_count": null,
   "id": "c0378457",
   "metadata": {},
   "outputs": [],
   "source": [
    "sns.displot(data_movies_drop['score'], bins=20)\n",
    "sns.displot(data_movies_drop['popularity'], bins=20)\n",
    "data_movies_drop['score'].unique()\n",
    "data_movies_drop['popularity'].unique()"
   ]
  },
  {
   "cell_type": "code",
   "execution_count": null,
   "id": "be721839",
   "metadata": {},
   "outputs": [],
   "source": [
    "# studios that are most successfull --> filter\n",
    "# model to predict the most succesfull studios? \n",
    "# anime raccomandation?\n",
    "# predict the anime that can be likely that is higher scored or popular? "
   ]
  },
  {
   "cell_type": "code",
   "execution_count": null,
   "id": "5c13a5c6",
   "metadata": {},
   "outputs": [],
   "source": [
    "#SPLIT genres"
   ]
  },
  {
   "cell_type": "code",
   "execution_count": null,
   "id": "3e930771",
   "metadata": {},
   "outputs": [],
   "source": [
    "# new data frame with split value columns\n",
    "new = data_movies_drop[\"genres\"].str.split(\",\", n = -1, expand = True)\n",
    "# making separate first name column from new data frame\n",
    "data_movies_drop['genres1']= new[0]\n",
    "# making separate last name column from new data frame\n",
    "data_movies_drop[\"genres2\"]= new[1]\n",
    "data_movies_drop[\"genres3\"]= new[3]"
   ]
  },
  {
   "cell_type": "code",
   "execution_count": null,
   "id": "07d03da1",
   "metadata": {},
   "outputs": [],
   "source": [
    "data_movies_drop"
   ]
  },
  {
   "cell_type": "code",
   "execution_count": null,
   "id": "e26035d5",
   "metadata": {},
   "outputs": [],
   "source": [
    "data_movies_drop['genres1'].value_counts()"
   ]
  },
  {
   "cell_type": "code",
   "execution_count": null,
   "id": "734aa00e",
   "metadata": {},
   "outputs": [],
   "source": [
    "data_movies_drop_sel= data_movies_drop[(data_movies_drop['genres1']=='Comedy') or (data_movies_drop['genres2']=='Comedy')]"
   ]
  },
  {
   "cell_type": "code",
   "execution_count": null,
   "id": "ecf254eb",
   "metadata": {},
   "outputs": [],
   "source": [
    "data_movies_drop_sel"
   ]
  },
  {
   "cell_type": "code",
   "execution_count": null,
   "id": "c3fb5d15",
   "metadata": {},
   "outputs": [],
   "source": []
  },
  {
   "cell_type": "code",
   "execution_count": null,
   "id": "0b9cd441",
   "metadata": {},
   "outputs": [],
   "source": []
  },
  {
   "cell_type": "code",
   "execution_count": null,
   "id": "c91a3d04",
   "metadata": {},
   "outputs": [],
   "source": []
  },
  {
   "cell_type": "code",
   "execution_count": null,
   "id": "dfebdfdf",
   "metadata": {},
   "outputs": [],
   "source": []
  },
  {
   "cell_type": "code",
   "execution_count": null,
   "id": "185b71a4",
   "metadata": {},
   "outputs": [],
   "source": []
  }
 ],
 "metadata": {
  "kernelspec": {
   "display_name": "Python 3 (ipykernel)",
   "language": "python",
   "name": "python3"
  },
  "language_info": {
   "codemirror_mode": {
    "name": "ipython",
    "version": 3
   },
   "file_extension": ".py",
   "mimetype": "text/x-python",
   "name": "python",
   "nbconvert_exporter": "python",
   "pygments_lexer": "ipython3",
   "version": "3.9.7"
  }
 },
 "nbformat": 4,
 "nbformat_minor": 5
}
